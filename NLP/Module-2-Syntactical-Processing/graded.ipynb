{
 "cells": [
  {
   "cell_type": "code",
   "execution_count": 1,
   "source": [
    "import pandas as pd\r\n",
    "import spacy"
   ],
   "outputs": [],
   "metadata": {}
  },
  {
   "cell_type": "code",
   "execution_count": 4,
   "source": [
    "data = pd.read_csv(\"tagged_words.csv\")"
   ],
   "outputs": [],
   "metadata": {}
  },
  {
   "cell_type": "code",
   "execution_count": 5,
   "source": [
    "\r\n",
    "sent = \"I saw him running away\"\r\n",
    "\r\n",
    "def get_common_tag(data,word):\r\n",
    "    if word.lower() in data['word'].unique():\r\n",
    "        q = f\"word=='{word.lower()}'\"\r\n",
    "        return word , data.query(q)['tag'].value_counts().head(1).index.tolist()[0]\r\n",
    "    else:\r\n",
    "        return f\"{word} not in data\"\r\n",
    "\r\n",
    "for word in sent.split(\" \"):\r\n",
    "    print(get_common_tag(data,word))\r\n",
    " \r\n",
    "data.query(\"word=='saw'\")['tag'].value_counts()"
   ],
   "outputs": [
    {
     "output_type": "stream",
     "name": "stdout",
     "text": [
      "('I', 'PRON')\n",
      "('saw', 'VERB')\n",
      "('him', 'PRON')\n",
      "('running', 'VERB')\n",
      "('away', 'ADV')\n"
     ]
    },
    {
     "output_type": "execute_result",
     "data": {
      "text/plain": [
       "VERB    347\n",
       "NOUN      5\n",
       "Name: tag, dtype: int64"
      ]
     },
     "metadata": {},
     "execution_count": 5
    }
   ],
   "metadata": {}
  },
  {
   "cell_type": "code",
   "execution_count": 6,
   "source": [
    "sent = \"He wished he was rich\"\r\n",
    "\r\n",
    "def get_common_tag(data,word):\r\n",
    "    if word.lower() in data['word'].unique():\r\n",
    "        q = f\"word=='{word.lower()}'\"\r\n",
    "        return word , data.query(q)['tag'].value_counts().head(1).index.tolist()[0]\r\n",
    "    else:\r\n",
    "        return f\"{word} not in data\"\r\n",
    "\r\n",
    "for word in sent.split(\" \"):\r\n",
    "    print(get_common_tag(data,word))\r\n",
    " "
   ],
   "outputs": [
    {
     "output_type": "stream",
     "name": "stdout",
     "text": [
      "('He', 'PRON')\n",
      "('wished', 'VERB')\n",
      "('he', 'PRON')\n",
      "('was', 'VERB')\n",
      "('rich', 'ADJ')\n"
     ]
    }
   ],
   "metadata": {}
  },
  {
   "cell_type": "code",
   "execution_count": 7,
   "source": [
    "emmission_matrix = pd.crosstab(data['word'],data['tag'],normalize='columns')\r\n",
    "\r\n",
    "word = 'his'\r\n",
    "emmission_matrix.loc[word][emmission_matrix.loc[word]>0].round(3)\r\n",
    "emmission_matrix['PRON'].loc['his'].round(3)"
   ],
   "outputs": [
    {
     "output_type": "execute_result",
     "data": {
      "text/plain": [
       "0.001"
      ]
     },
     "metadata": {},
     "execution_count": 7
    }
   ],
   "metadata": {}
  },
  {
   "cell_type": "code",
   "execution_count": null,
   "source": [],
   "outputs": [],
   "metadata": {}
  }
 ],
 "metadata": {
  "orig_nbformat": 4,
  "language_info": {
   "name": "python",
   "version": "3.9.6",
   "mimetype": "text/x-python",
   "codemirror_mode": {
    "name": "ipython",
    "version": 3
   },
   "pygments_lexer": "ipython3",
   "nbconvert_exporter": "python",
   "file_extension": ".py"
  },
  "kernelspec": {
   "name": "python3",
   "display_name": "Python 3.9.6 64-bit"
  },
  "interpreter": {
   "hash": "593d114b5a37efc49ac6bd5496f0496027154ecfb36472b8cce6beb026f23cc8"
  }
 },
 "nbformat": 4,
 "nbformat_minor": 2
}