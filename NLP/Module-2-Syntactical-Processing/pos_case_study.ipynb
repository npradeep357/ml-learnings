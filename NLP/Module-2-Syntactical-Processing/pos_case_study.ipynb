{
 "cells": [
  {
   "cell_type": "code",
   "execution_count": 31,
   "source": [
    "from tqdm import tqdm\r\n",
    "\r\n",
    "import spacy\r\n",
    "import pandas as pd\r\n",
    "import numpy as np\r\n",
    "import os\r\n"
   ],
   "outputs": [],
   "metadata": {}
  },
  {
   "cell_type": "code",
   "execution_count": 7,
   "source": [
    "model = spacy.load('en_core_web_sm')"
   ],
   "outputs": [],
   "metadata": {}
  },
  {
   "cell_type": "code",
   "execution_count": 2,
   "source": [
    "def printTags(scentence):\r\n",
    "    tokens = model(scentence)\r\n",
    "    for token in tokens:\r\n",
    "        print(token.text, \"---\", token.pos_, \"---\", token.tag_)"
   ],
   "outputs": [],
   "metadata": {}
  },
  {
   "cell_type": "code",
   "execution_count": 3,
   "source": [
    "sent1 = \"I loved the screen on this phone\"\r\n",
    "sent2 = \"The battery life on this phone is great\"\r\n",
    "sent3 = \"The speakers are pathetic\""
   ],
   "outputs": [],
   "metadata": {}
  },
  {
   "cell_type": "code",
   "execution_count": 5,
   "source": [
    "printTags(sent1)\r\n",
    "print('-------------------------------')\r\n",
    "printTags(sent2)\r\n",
    "print('-------------------------------')\r\n",
    "printTags(sent3)"
   ],
   "outputs": [
    {
     "output_type": "stream",
     "name": "stdout",
     "text": [
      "I --- PRON --- PRP\n",
      "loved --- VERB --- VBD\n",
      "the --- DET --- DT\n",
      "screen --- NOUN --- NN\n",
      "on --- ADP --- IN\n",
      "this --- DET --- DT\n",
      "phone --- NOUN --- NN\n",
      "-------------------------------\n",
      "The --- DET --- DT\n",
      "battery --- NOUN --- NN\n",
      "life --- NOUN --- NN\n",
      "on --- ADP --- IN\n",
      "this --- DET --- DT\n",
      "phone --- NOUN --- NN\n",
      "is --- AUX --- VBZ\n",
      "great --- ADJ --- JJ\n",
      "-------------------------------\n",
      "The --- DET --- DT\n",
      "speakers --- NOUN --- NNS\n",
      "are --- AUX --- VBP\n",
      "pathetic --- ADJ --- JJ\n"
     ]
    }
   ],
   "metadata": {}
  },
  {
   "cell_type": "code",
   "execution_count": null,
   "source": [],
   "outputs": [],
   "metadata": {}
  },
  {
   "cell_type": "code",
   "execution_count": 8,
   "source": [
    "con=open(\"Samsung.txt\",'r', encoding=\"utf-8\")\r\n",
    "samsung_reviews=con.read()\r\n",
    "con.close()"
   ],
   "outputs": [],
   "metadata": {}
  },
  {
   "cell_type": "code",
   "execution_count": 9,
   "source": [
    "samsung_review_data = samsung_reviews.split('\\n')"
   ],
   "outputs": [],
   "metadata": {}
  },
  {
   "cell_type": "code",
   "execution_count": 12,
   "source": [
    "len(samsung_review_data)"
   ],
   "outputs": [
    {
     "output_type": "execute_result",
     "data": {
      "text/plain": [
       "46355"
      ]
     },
     "metadata": {},
     "execution_count": 12
    }
   ],
   "metadata": {}
  },
  {
   "cell_type": "code",
   "execution_count": 15,
   "source": [
    "# reviews = [model(r) for r in samsung_review_data]\r\n",
    "review1 = model(samsung_review_data[1])"
   ],
   "outputs": [],
   "metadata": {}
  },
  {
   "cell_type": "code",
   "execution_count": 25,
   "source": [
    "# Convert each token into its lemma and identify the PoS tags.\r\n",
    "def getTagsLemma(sent):\r\n",
    "    pos = []\r\n",
    "    lemma = []\r\n",
    "    text = []\r\n",
    "\r\n",
    "    for tok in sent:\r\n",
    "        \r\n",
    "        pos.append(tok.pos_)\r\n",
    "        lemma.append(tok.lemma_)\r\n",
    "        text.append(tok.text)\r\n",
    "    \r\n",
    "    # Convert the data into a dataframe object.\r\n",
    "    nlp_table = pd.DataFrame({'text':text,'lemma':lemma,'pos':pos})\r\n",
    "    return nlp_table"
   ],
   "outputs": [],
   "metadata": {}
  },
  {
   "cell_type": "code",
   "execution_count": 26,
   "source": [
    "df1 = getTagsLemma(review1)\r\n",
    "df1.head()\r\n",
    "\r\n",
    "#Get most frequent lemma forms of nouns\r\n",
    "print(df1[df1['pos']=='NOUN']['lemma'].value_counts())"
   ],
   "outputs": [
    {
     "output_type": "stream",
     "name": "stdout",
     "text": [
      "phone      3\n",
      "grade      1\n",
      "pantach    1\n",
      "android    1\n",
      "size       1\n",
      "surfing    1\n",
      "medium     1\n",
      "Name: lemma, dtype: int64\n"
     ]
    }
   ],
   "metadata": {}
  },
  {
   "cell_type": "code",
   "execution_count": 27,
   "source": [
    "nouns = []\r\n",
    "for review in tqdm(samsung_review_data[0:1000]):\r\n",
    "    doc = model(review)\r\n",
    "    for tok in doc:\r\n",
    "        if tok.pos_==\"NOUN\":\r\n",
    "            nouns.append(tok.lemma_.lower())\r\n",
    "pd.Series(nouns).value_counts().head(5)"
   ],
   "outputs": [
    {
     "output_type": "stream",
     "name": "stderr",
     "text": [
      "100%|██████████| 1000/1000 [00:09<00:00, 110.41it/s]\n"
     ]
    },
    {
     "output_type": "execute_result",
     "data": {
      "text/plain": [
       "phone      1212\n",
       "battery      91\n",
       "time         90\n",
       "price        87\n",
       "screen       87\n",
       "dtype: int64"
      ]
     },
     "metadata": {},
     "execution_count": 27
    }
   ],
   "metadata": {}
  },
  {
   "cell_type": "markdown",
   "source": [
    "# improving performance"
   ],
   "metadata": {}
  },
  {
   "cell_type": "code",
   "execution_count": 32,
   "source": [
    "# creating a new model with disabling parser and ner\r\n",
    "nlp = spacy.load('en_core_web_sm', disable = ['parser','ner'])"
   ],
   "outputs": [],
   "metadata": {}
  },
  {
   "cell_type": "code",
   "execution_count": 33,
   "source": [
    "nouns2 = []\r\n",
    "for review in tqdm(samsung_review_data[0:1000]):\r\n",
    "    doc = nlp(review)\r\n",
    "    for tok in doc:\r\n",
    "        if tok.pos_==\"NOUN\":\r\n",
    "            nouns2.append(tok.lemma_.lower())\r\n",
    "pd.Series(nouns2).value_counts().head(5)"
   ],
   "outputs": [
    {
     "output_type": "stream",
     "name": "stderr",
     "text": [
      "100%|██████████| 1000/1000 [00:04<00:00, 204.04it/s]\n"
     ]
    },
    {
     "output_type": "execute_result",
     "data": {
      "text/plain": [
       "phone      1212\n",
       "battery      91\n",
       "time         90\n",
       "price        87\n",
       "screen       87\n",
       "dtype: int64"
      ]
     },
     "metadata": {},
     "execution_count": 33
    }
   ],
   "metadata": {}
  },
  {
   "cell_type": "code",
   "execution_count": 34,
   "source": [
    "nouns2 = []\r\n",
    "for review in tqdm(samsung_review_data):\r\n",
    "    doc = nlp(review)\r\n",
    "    for tok in doc:\r\n",
    "        if tok.pos_==\"NOUN\":\r\n",
    "            nouns2.append(tok.lemma_.lower())\r\n"
   ],
   "outputs": [
    {
     "output_type": "stream",
     "name": "stderr",
     "text": [
      "100%|██████████| 46355/46355 [02:38<00:00, 291.55it/s]\n"
     ]
    },
    {
     "output_type": "execute_result",
     "data": {
      "text/plain": [
       "phone      43452\n",
       "battery     4332\n",
       "product     3907\n",
       "screen      3838\n",
       "time        3829\n",
       "dtype: int64"
      ]
     },
     "metadata": {},
     "execution_count": 34
    }
   ],
   "metadata": {}
  },
  {
   "cell_type": "code",
   "execution_count": 35,
   "source": [
    "df = pd.Series(nouns2)\r\n",
    "df.value_counts().head(5)"
   ],
   "outputs": [
    {
     "output_type": "execute_result",
     "data": {
      "text/plain": [
       "phone      43452\n",
       "battery     4332\n",
       "product     3907\n",
       "screen      3838\n",
       "time        3829\n",
       "dtype: int64"
      ]
     },
     "metadata": {},
     "execution_count": 35
    }
   ],
   "metadata": {}
  },
  {
   "cell_type": "code",
   "execution_count": 36,
   "source": [
    "df.value_counts().head(10)"
   ],
   "outputs": [
    {
     "output_type": "execute_result",
     "data": {
      "text/plain": [
       "phone      43452\n",
       "battery     4332\n",
       "product     3907\n",
       "screen      3838\n",
       "time        3829\n",
       "card        3391\n",
       "price       3153\n",
       "problem     3129\n",
       "camera      2903\n",
       "app         2645\n",
       "dtype: int64"
      ]
     },
     "metadata": {},
     "execution_count": 36
    }
   ],
   "metadata": {}
  },
  {
   "cell_type": "markdown",
   "source": [
    "## Extracting prefix and suffix features of the most commonly occuring nouns - getting context"
   ],
   "metadata": {}
  },
  {
   "cell_type": "code",
   "execution_count": 42,
   "source": [
    "import re\r\n",
    "s1 = 'the battery life was good'"
   ],
   "outputs": [],
   "metadata": {}
  },
  {
   "cell_type": "markdown",
   "source": [
    "![alt text](regex.png \"Regex\")"
   ],
   "metadata": {}
  },
  {
   "cell_type": "code",
   "execution_count": 43,
   "source": [
    "pattern = re.compile(\"\\w+\\sbattery\\s\\w+\")"
   ],
   "outputs": [],
   "metadata": {}
  },
  {
   "cell_type": "code",
   "execution_count": 44,
   "source": [
    "print(re.findall(pattern, s1))"
   ],
   "outputs": [
    {
     "output_type": "stream",
     "name": "stdout",
     "text": [
      "['the battery life']\n"
     ]
    }
   ],
   "metadata": {}
  },
  {
   "cell_type": "code",
   "execution_count": 45,
   "source": [
    "re.findall(pattern,s1)[0]"
   ],
   "outputs": [
    {
     "output_type": "execute_result",
     "data": {
      "text/plain": [
       "'the battery life'"
      ]
     },
     "metadata": {},
     "execution_count": 45
    }
   ],
   "metadata": {}
  },
  {
   "cell_type": "code",
   "execution_count": 46,
   "source": [
    "re.findall(pattern,s1)[0].split(\" \")"
   ],
   "outputs": [
    {
     "output_type": "execute_result",
     "data": {
      "text/plain": [
       "['the', 'battery', 'life']"
      ]
     },
     "metadata": {},
     "execution_count": 46
    }
   ],
   "metadata": {}
  },
  {
   "cell_type": "code",
   "execution_count": 47,
   "source": [
    "re.findall(pattern,s1)[0].split(\" \")[0] ## prefix"
   ],
   "outputs": [
    {
     "output_type": "execute_result",
     "data": {
      "text/plain": [
       "'the'"
      ]
     },
     "metadata": {},
     "execution_count": 47
    }
   ],
   "metadata": {}
  },
  {
   "cell_type": "code",
   "execution_count": 48,
   "source": [
    "re.findall(pattern,s1)[0].split(\" \")[-1] ## suffix"
   ],
   "outputs": [
    {
     "output_type": "execute_result",
     "data": {
      "text/plain": [
       "'life'"
      ]
     },
     "metadata": {},
     "execution_count": 48
    }
   ],
   "metadata": {}
  },
  {
   "cell_type": "markdown",
   "source": [
    "### Extract all the prefixes and suffixes of battery"
   ],
   "metadata": {}
  },
  {
   "cell_type": "code",
   "execution_count": 51,
   "source": [
    "prefixes_suffixes = re.findall(pattern,samsung_reviews)"
   ],
   "outputs": [],
   "metadata": {}
  },
  {
   "cell_type": "code",
   "execution_count": 52,
   "source": [
    "prefixes_suffixes[:10]"
   ],
   "outputs": [
    {
     "output_type": "execute_result",
     "data": {
      "text/plain": [
       "['that battery life',\n",
       " 'The battery was',\n",
       " 'great battery life',\n",
       " 'removable battery or',\n",
       " 'the battery in',\n",
       " 'The battery was',\n",
       " 'the battery is',\n",
       " 'Excellent battery life',\n",
       " 'the battery off',\n",
       " 'the battery goes']"
      ]
     },
     "metadata": {},
     "execution_count": 52
    }
   ],
   "metadata": {}
  },
  {
   "cell_type": "code",
   "execution_count": 53,
   "source": [
    "prefixes = []\r\n",
    "suffixes = []\r\n",
    "for p in prefixes_suffixes:\r\n",
    "    l = p.split(\" \")\r\n",
    "    prefixes.append(l[0].lower())\r\n",
    "    suffixes.append(l[-1].lower())"
   ],
   "outputs": [],
   "metadata": {}
  },
  {
   "cell_type": "code",
   "execution_count": 54,
   "source": [
    "pd.Series(prefixes).value_counts().head(5)"
   ],
   "outputs": [
    {
     "output_type": "execute_result",
     "data": {
      "text/plain": [
       "the      1396\n",
       "good      122\n",
       "great      90\n",
       "and        82\n",
       "long       60\n",
       "dtype: int64"
      ]
     },
     "metadata": {},
     "execution_count": 54
    }
   ],
   "metadata": {}
  },
  {
   "cell_type": "code",
   "execution_count": 55,
   "source": [
    "pd.Series(suffixes).value_counts().head(5)"
   ],
   "outputs": [
    {
     "output_type": "execute_result",
     "data": {
      "text/plain": [
       "life     1052\n",
       "is        210\n",
       "and       146\n",
       "lasts      83\n",
       "was        66\n",
       "dtype: int64"
      ]
     },
     "metadata": {},
     "execution_count": 55
    }
   ],
   "metadata": {}
  },
  {
   "cell_type": "code",
   "execution_count": 57,
   "source": [
    "stop_words = [\"i\", \"me\", \"my\", \"myself\", \"we\", \"our\", \"ours\", \"ourselves\", \"you\", \"your\", \"yours\", \"yourself\", \"yourselves\", \"he\", \"him\", \"his\", \"himself\", \"she\", \"her\", \"hers\", \"herself\", \"it\", \"its\", \"itself\", \"they\", \"them\", \"their\", \"theirs\", \"themselves\", \"what\", \"which\", \"who\", \"whom\", \"this\", \"that\", \"these\", \"those\", \"am\", \"is\", \"are\", \"was\", \"were\", \"be\", \"been\", \"being\", \"have\", \"has\", \"had\", \"having\", \"do\", \"does\", \"did\", \"doing\", \"a\", \"an\", \"the\", \"and\", \"but\", \"if\", \"or\", \"because\", \"as\", \"until\", \"while\", \"of\", \"at\", \"by\", \"for\", \"with\", \"about\", \"against\", \"between\", \"into\", \"through\", \"during\", \"before\", \"after\", \"above\", \"below\", \"to\", \"from\", \"up\", \"down\", \"in\", \"out\", \"on\", \"off\", \"over\", \"under\", \"again\", \"further\", \"then\", \"once\", \"here\", \"there\", \"when\", \"where\", \"why\", \"how\", \"all\", \"any\", \"both\", \"each\", \"few\", \"more\", \"most\", \"other\", \"some\", \"such\", \"no\", \"nor\", \"not\", \"only\", \"own\", \"same\", \"so\", \"than\", \"too\", \"very\", \"s\", \"t\", \"can\", \"will\", \"just\", \"don\", \"should\", \"now\"]"
   ],
   "outputs": [],
   "metadata": {}
  },
  {
   "cell_type": "code",
   "execution_count": 58,
   "source": [
    "prefixes = [p for p in prefixes if p not in stop_words]\r\n",
    "suffixes = [s for s in suffixes if s not in stop_words]"
   ],
   "outputs": [],
   "metadata": {}
  },
  {
   "cell_type": "code",
   "execution_count": 59,
   "source": [
    "pd.Series(prefixes).value_counts().head(5)"
   ],
   "outputs": [
    {
     "output_type": "execute_result",
     "data": {
      "text/plain": [
       "good         122\n",
       "great         90\n",
       "long          60\n",
       "new           51\n",
       "removable     48\n",
       "dtype: int64"
      ]
     },
     "metadata": {},
     "execution_count": 59
    }
   ],
   "metadata": {}
  },
  {
   "cell_type": "code",
   "execution_count": 60,
   "source": [
    "pd.Series(suffixes).value_counts().head(5)"
   ],
   "outputs": [
    {
     "output_type": "execute_result",
     "data": {
      "text/plain": [
       "life     1052\n",
       "lasts      83\n",
       "last       53\n",
       "doesn      40\n",
       "runs       31\n",
       "dtype: int64"
      ]
     },
     "metadata": {},
     "execution_count": 60
    }
   ],
   "metadata": {}
  },
  {
   "cell_type": "code",
   "execution_count": 62,
   "source": [
    "prefixes=pd.Series(prefixes).value_counts().head(5).index\r\n",
    "suffixes=pd.Series(suffixes).value_counts().head(5).index\r\n",
    "pd.DataFrame({'prefixes':prefixes,'keyword':['battery']*len(prefixes),'suffixes':suffixes})"
   ],
   "outputs": [
    {
     "output_type": "execute_result",
     "data": {
      "text/html": [
       "<div>\n",
       "<style scoped>\n",
       "    .dataframe tbody tr th:only-of-type {\n",
       "        vertical-align: middle;\n",
       "    }\n",
       "\n",
       "    .dataframe tbody tr th {\n",
       "        vertical-align: top;\n",
       "    }\n",
       "\n",
       "    .dataframe thead th {\n",
       "        text-align: right;\n",
       "    }\n",
       "</style>\n",
       "<table border=\"1\" class=\"dataframe\">\n",
       "  <thead>\n",
       "    <tr style=\"text-align: right;\">\n",
       "      <th></th>\n",
       "      <th>prefixes</th>\n",
       "      <th>keyword</th>\n",
       "      <th>suffixes</th>\n",
       "    </tr>\n",
       "  </thead>\n",
       "  <tbody>\n",
       "    <tr>\n",
       "      <th>0</th>\n",
       "      <td>good</td>\n",
       "      <td>battery</td>\n",
       "      <td>life</td>\n",
       "    </tr>\n",
       "    <tr>\n",
       "      <th>1</th>\n",
       "      <td>great</td>\n",
       "      <td>battery</td>\n",
       "      <td>lasts</td>\n",
       "    </tr>\n",
       "    <tr>\n",
       "      <th>2</th>\n",
       "      <td>long</td>\n",
       "      <td>battery</td>\n",
       "      <td>last</td>\n",
       "    </tr>\n",
       "    <tr>\n",
       "      <th>3</th>\n",
       "      <td>new</td>\n",
       "      <td>battery</td>\n",
       "      <td>doesn</td>\n",
       "    </tr>\n",
       "    <tr>\n",
       "      <th>4</th>\n",
       "      <td>removable</td>\n",
       "      <td>battery</td>\n",
       "      <td>runs</td>\n",
       "    </tr>\n",
       "  </tbody>\n",
       "</table>\n",
       "</div>"
      ],
      "text/plain": [
       "    prefixes  keyword suffixes\n",
       "0       good  battery     life\n",
       "1      great  battery    lasts\n",
       "2       long  battery     last\n",
       "3        new  battery    doesn\n",
       "4  removable  battery     runs"
      ]
     },
     "metadata": {},
     "execution_count": 62
    }
   ],
   "metadata": {}
  },
  {
   "cell_type": "code",
   "execution_count": 63,
   "source": [
    "def get_context(reviews,keyword):\r\n",
    "    pattern = re.compile(f\"\\w+\\s{keyword}\\s\\w+\")\r\n",
    "    prefixes_suffixes = re.findall(pattern,reviews)\r\n",
    "    prefixes = []\r\n",
    "    suffixes = []\r\n",
    "    for p in prefixes_suffixes:\r\n",
    "        l = p.split(\" \")\r\n",
    "        prefixes.append(l[0].lower())\r\n",
    "        suffixes.append(l[-1].lower())\r\n",
    "    prefixes = [p for p in prefixes if p not in stop_words]\r\n",
    "    suffixes = [s for s in suffixes if s not in stop_words]\r\n",
    "    prefixes=pd.Series(prefixes).value_counts().head(5).index\r\n",
    "    suffixes=pd.Series(suffixes).value_counts().head(5).index\r\n",
    "    return pd.DataFrame({'prefixes':prefixes,'keyword':[f'{keyword}']*len(prefixes),'suffixes':suffixes})"
   ],
   "outputs": [],
   "metadata": {}
  },
  {
   "cell_type": "code",
   "execution_count": 64,
   "source": [
    "get_context(samsung_reviews,\"battery\")"
   ],
   "outputs": [
    {
     "output_type": "execute_result",
     "data": {
      "text/html": [
       "<div>\n",
       "<style scoped>\n",
       "    .dataframe tbody tr th:only-of-type {\n",
       "        vertical-align: middle;\n",
       "    }\n",
       "\n",
       "    .dataframe tbody tr th {\n",
       "        vertical-align: top;\n",
       "    }\n",
       "\n",
       "    .dataframe thead th {\n",
       "        text-align: right;\n",
       "    }\n",
       "</style>\n",
       "<table border=\"1\" class=\"dataframe\">\n",
       "  <thead>\n",
       "    <tr style=\"text-align: right;\">\n",
       "      <th></th>\n",
       "      <th>prefixes</th>\n",
       "      <th>keyword</th>\n",
       "      <th>suffixes</th>\n",
       "    </tr>\n",
       "  </thead>\n",
       "  <tbody>\n",
       "    <tr>\n",
       "      <th>0</th>\n",
       "      <td>good</td>\n",
       "      <td>battery</td>\n",
       "      <td>life</td>\n",
       "    </tr>\n",
       "    <tr>\n",
       "      <th>1</th>\n",
       "      <td>great</td>\n",
       "      <td>battery</td>\n",
       "      <td>lasts</td>\n",
       "    </tr>\n",
       "    <tr>\n",
       "      <th>2</th>\n",
       "      <td>long</td>\n",
       "      <td>battery</td>\n",
       "      <td>last</td>\n",
       "    </tr>\n",
       "    <tr>\n",
       "      <th>3</th>\n",
       "      <td>new</td>\n",
       "      <td>battery</td>\n",
       "      <td>doesn</td>\n",
       "    </tr>\n",
       "    <tr>\n",
       "      <th>4</th>\n",
       "      <td>removable</td>\n",
       "      <td>battery</td>\n",
       "      <td>runs</td>\n",
       "    </tr>\n",
       "  </tbody>\n",
       "</table>\n",
       "</div>"
      ],
      "text/plain": [
       "    prefixes  keyword suffixes\n",
       "0       good  battery     life\n",
       "1      great  battery    lasts\n",
       "2       long  battery     last\n",
       "3        new  battery    doesn\n",
       "4  removable  battery     runs"
      ]
     },
     "metadata": {},
     "execution_count": 64
    }
   ],
   "metadata": {}
  },
  {
   "cell_type": "code",
   "execution_count": 65,
   "source": [
    "get_context(samsung_reviews,\"screen\")"
   ],
   "outputs": [
    {
     "output_type": "execute_result",
     "data": {
      "text/html": [
       "<div>\n",
       "<style scoped>\n",
       "    .dataframe tbody tr th:only-of-type {\n",
       "        vertical-align: middle;\n",
       "    }\n",
       "\n",
       "    .dataframe tbody tr th {\n",
       "        vertical-align: top;\n",
       "    }\n",
       "\n",
       "    .dataframe thead th {\n",
       "        text-align: right;\n",
       "    }\n",
       "</style>\n",
       "<table border=\"1\" class=\"dataframe\">\n",
       "  <thead>\n",
       "    <tr style=\"text-align: right;\">\n",
       "      <th></th>\n",
       "      <th>prefixes</th>\n",
       "      <th>keyword</th>\n",
       "      <th>suffixes</th>\n",
       "    </tr>\n",
       "  </thead>\n",
       "  <tbody>\n",
       "    <tr>\n",
       "      <th>0</th>\n",
       "      <td>touch</td>\n",
       "      <td>screen</td>\n",
       "      <td>protector</td>\n",
       "    </tr>\n",
       "    <tr>\n",
       "      <th>1</th>\n",
       "      <td>big</td>\n",
       "      <td>screen</td>\n",
       "      <td>size</td>\n",
       "    </tr>\n",
       "    <tr>\n",
       "      <th>2</th>\n",
       "      <td>great</td>\n",
       "      <td>screen</td>\n",
       "      <td>resolution</td>\n",
       "    </tr>\n",
       "    <tr>\n",
       "      <th>3</th>\n",
       "      <td>large</td>\n",
       "      <td>screen</td>\n",
       "      <td>protectors</td>\n",
       "    </tr>\n",
       "    <tr>\n",
       "      <th>4</th>\n",
       "      <td>home</td>\n",
       "      <td>screen</td>\n",
       "      <td>quality</td>\n",
       "    </tr>\n",
       "  </tbody>\n",
       "</table>\n",
       "</div>"
      ],
      "text/plain": [
       "  prefixes keyword    suffixes\n",
       "0    touch  screen   protector\n",
       "1      big  screen        size\n",
       "2    great  screen  resolution\n",
       "3    large  screen  protectors\n",
       "4     home  screen     quality"
      ]
     },
     "metadata": {},
     "execution_count": 65
    }
   ],
   "metadata": {}
  },
  {
   "cell_type": "markdown",
   "source": [
    "# Summary:\r\n",
    "\r\n",
    "- Simple hueristics sometime are very usefull\r\n",
    "- Regex can be life saviours\r\n",
    "- Don't forget to use simple text processing while trying to solve a non-trival problem\r\n",
    "\r\n"
   ],
   "metadata": {}
  }
 ],
 "metadata": {
  "orig_nbformat": 4,
  "language_info": {
   "name": "python",
   "version": "3.9.6",
   "mimetype": "text/x-python",
   "codemirror_mode": {
    "name": "ipython",
    "version": 3
   },
   "pygments_lexer": "ipython3",
   "nbconvert_exporter": "python",
   "file_extension": ".py"
  },
  "kernelspec": {
   "name": "python3",
   "display_name": "Python 3.9.6 64-bit"
  },
  "interpreter": {
   "hash": "593d114b5a37efc49ac6bd5496f0496027154ecfb36472b8cce6beb026f23cc8"
  }
 },
 "nbformat": 4,
 "nbformat_minor": 2
}