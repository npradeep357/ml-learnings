{
  "nbformat": 4,
  "nbformat_minor": 2,
  "metadata": {
    "colab": {
      "name": "CRF.ipynb",
      "provenance": [],
      "collapsed_sections": [
        "13ziiBZecMUJ"
      ]
    },
    "kernelspec": {
      "name": "python3",
      "display_name": "Python 3.8.5 64-bit ('base': conda)"
    },
    "language_info": {
      "name": "python",
      "version": "3.8.5",
      "mimetype": "text/x-python",
      "codemirror_mode": {
        "name": "ipython",
        "version": 3
      },
      "pygments_lexer": "ipython3",
      "nbconvert_exporter": "python",
      "file_extension": ".py"
    },
    "interpreter": {
      "hash": "32957bfa618a669e75d48bdc471cb7d25f551be2ea41a51f3a46b6452f8dc003"
    }
  },
  "cells": [
    {
      "cell_type": "markdown",
      "source": [
        "For this demo, we will use the [MIT Restaurant Corpus](https://groups.csail.mit.edu/sls/downloads/restaurant/) -- a dataset of transcriptions of spoken utterances about restaurants.\n",
        "\n",
        "The dataset has following entity types:\n",
        "\n",
        "* 'B-Rating'\n",
        "* 'I-Rating',\n",
        "* 'B-Amenity',\n",
        "* 'I-Amenity',\n",
        "* 'B-Location',\n",
        "* 'I-Location',\n",
        "* 'B-Restaurant_Name',\n",
        "* 'I-Restaurant_Name',\n",
        "* 'B-Price',\n",
        "* 'B-Hours',\n",
        "* 'I-Hours',\n",
        "* 'B-Dish',\n",
        "* 'I-Dish',\n",
        "* 'B-Cuisine',\n",
        "* 'I-Price',\n",
        "* 'I-Cuisine'\n",
        "\n",
        "Let us load the dataset and see what are we working with."
      ],
      "metadata": {
        "id": "FuJZ8hS1Gdp0"
      }
    },
    {
      "cell_type": "code",
      "execution_count": 2,
      "source": [
        "with open('sent_train', 'r') as train_sent_file:\r\n",
        "  train_sentences = train_sent_file.readlines()\r\n",
        "\r\n",
        "with open('label_train', 'r') as train_labels_file:\r\n",
        "  train_labels = train_labels_file.readlines()\r\n",
        "\r\n",
        "with open('sent_test', 'r') as test_sent_file:\r\n",
        "  test_sentences = test_sent_file.readlines()\r\n",
        "\r\n",
        "with open('label_test', 'r') as test_labels_file:\r\n",
        "  test_labels = test_labels_file.readlines()\r\n"
      ],
      "outputs": [],
      "metadata": {
        "id": "Q0FynEFzDrvb"
      }
    },
    {
      "cell_type": "markdown",
      "source": [
        "Let us see some example data points."
      ],
      "metadata": {
        "id": "5WkhbGrdGffs"
      }
    },
    {
      "cell_type": "code",
      "execution_count": 3,
      "source": [
        "# Print the 6th sentence in the test set i.e. index value 5.\r\n",
        "print(test_sentences[5])\r\n",
        "\r\n",
        "# Print the labels of this sentence\r\n",
        "print(test_labels[5])"
      ],
      "outputs": [
        {
          "output_type": "stream",
          "name": "stdout",
          "text": [
            "any good ice cream parlors around \n",
            "\n",
            "O B-Rating B-Cuisine I-Cuisine I-Cuisine B-Location \n",
            "\n"
          ]
        }
      ],
      "metadata": {
        "colab": {
          "base_uri": "https://localhost:8080/"
        },
        "id": "FVNI3boSFgQ1",
        "outputId": "ebced656-d436-41d7-f3c0-4db80bb4a621"
      }
    },
    {
      "cell_type": "markdown",
      "source": [
        "#Defining Features for Custom NER"
      ],
      "metadata": {
        "id": "dQSnhug230dr"
      }
    },
    {
      "cell_type": "markdown",
      "source": [
        "First, let us install the required modules."
      ],
      "metadata": {
        "id": "jMwc9lv_3mrW"
      }
    },
    {
      "cell_type": "code",
      "execution_count": 4,
      "source": [
        "# Install pycrf and crfsuit packages using pip command\r\n",
        "!pip install pycrf\r\n",
        "!pip install sklearn-crfsuite"
      ],
      "outputs": [
        {
          "output_type": "stream",
          "name": "stdout",
          "text": [
            "Collecting pycrf\n",
            "  Using cached pycrf-0.0.1.tar.gz (1.1 kB)\n",
            "Building wheels for collected packages: pycrf\n",
            "  Building wheel for pycrf (setup.py): started\n",
            "  Building wheel for pycrf (setup.py): finished with status 'done'\n",
            "  Created wheel for pycrf: filename=pycrf-0.0.1-py3-none-any.whl size=1902 sha256=b7e852cb1119db55d87ba727e090809c24e5a5d3847566f16b14c9c1062f9db5\n",
            "  Stored in directory: c:\\users\\pneeruko\\appdata\\local\\pip\\cache\\wheels\\03\\bf\\ca\\6777c01db8f2183ae7c5fadfc62d6e88d3e6d600c6379fa3c9\n",
            "Successfully built pycrf\n",
            "Installing collected packages: pycrf\n",
            "Successfully installed pycrf-0.0.1\n",
            "Collecting sklearn-crfsuite\n",
            "  Using cached sklearn_crfsuite-0.3.6-py2.py3-none-any.whl (12 kB)\n",
            "Requirement already satisfied: six in c:\\tools\\anaconda3\\lib\\site-packages (from sklearn-crfsuite) (1.15.0)\n",
            "Collecting tabulate\n",
            "  Using cached tabulate-0.8.9-py3-none-any.whl (25 kB)\n",
            "Requirement already satisfied: tqdm>=2.0 in c:\\tools\\anaconda3\\lib\\site-packages (from sklearn-crfsuite) (4.50.2)\n",
            "Collecting python-crfsuite>=0.8.3\n",
            "  Downloading python_crfsuite-0.9.7-cp38-cp38-win_amd64.whl (156 kB)\n",
            "Installing collected packages: tabulate, python-crfsuite, sklearn-crfsuite\n",
            "Successfully installed python-crfsuite-0.9.7 sklearn-crfsuite-0.3.6 tabulate-0.8.9\n"
          ]
        }
      ],
      "metadata": {
        "id": "i9KFfDxN3mWu"
      }
    },
    {
      "cell_type": "markdown",
      "source": [
        "\n",
        "\n",
        "We will now start with computing features for our input sequences."
      ],
      "metadata": {
        "id": "4Hv6kAL9TMpf"
      }
    },
    {
      "cell_type": "markdown",
      "source": [
        "We have defined the following features for CRF model building:\n",
        "\n",
        "- f1 = input word is in lower case; \n",
        "- f2 = last 3 characters of word;\n",
        "- f3 = last 2 characers of word;\n",
        "- f4 = 1; if the word is in uppercase, 0 otherwise;\n",
        "- f5 = 1; if word is a number; otherwise, 0 \n",
        "- f6= 1; if the word starts with a capital letter; otherwise, 0\n"
      ],
      "metadata": {
        "id": "HqvJ-tAz0MzR"
      }
    },
    {
      "cell_type": "code",
      "execution_count": 5,
      "source": [
        "#Define a function to get the above defined features for a word.\r\n",
        "\r\n",
        "def getFeaturesForOneWord(sentence, pos):\r\n",
        "  word = sentence[pos]\r\n",
        "\r\n",
        "  features = [\r\n",
        "    'word.lower=' + word.lower(), # serves as word id\r\n",
        "    'word[-3:]=' + word[-3:],     # last three characters\r\n",
        "    'word[-2:]=' + word[-2:],     # last two characters\r\n",
        "    'word.isupper=%s' % word.isupper(),  # is the word in all uppercase\r\n",
        "    'word.isdigit=%s' % word.isdigit(),  # is the word a number\r\n",
        "    'words.startsWithCapital=%s' % word[0].isupper() # is the word starting with a capital letter\r\n",
        "  ]\r\n",
        "\r\n",
        "  if(pos > 0):\r\n",
        "    prev_word = sentence[pos-1]\r\n",
        "    features.extend([\r\n",
        "    'prev_word.lower=' + prev_word.lower(), \r\n",
        "    'prev_word.isupper=%s' % prev_word.isupper(),\r\n",
        "    'prev_word.isdigit=%s' % prev_word.isdigit(),\r\n",
        "    'prev_words.startsWithCapital=%s' % prev_word[0].isupper()\r\n",
        "  ])\r\n",
        "  else:\r\n",
        "    features.append('BEG') # feature to track begin of sentence \r\n",
        "\r\n",
        "  if(pos == len(sentence)-1):\r\n",
        "    features.append('END') # feature to track end of sentence\r\n",
        "\r\n",
        "  return features"
      ],
      "outputs": [],
      "metadata": {
        "id": "3YVm3JTkFiaM"
      }
    },
    {
      "cell_type": "markdown",
      "source": [
        "#Computing Features "
      ],
      "metadata": {
        "id": "FAS3xt0u-r89"
      }
    },
    {
      "cell_type": "markdown",
      "source": [
        "Define a function to get features for a sentence using the already defined 'getFeaturesForOneWord' function"
      ],
      "metadata": {
        "id": "wQ_ByE1ladpo"
      }
    },
    {
      "cell_type": "code",
      "execution_count": 6,
      "source": [
        "# Define a function to get features for a sentence \r\n",
        "# using the 'getFeaturesForOneWord' function.\r\n",
        "def getFeaturesForOneSentence(sentence):\r\n",
        "  sentence_list = sentence.split()\r\n",
        "  return [getFeaturesForOneWord(sentence_list, pos) for pos in range(len(sentence_list))]"
      ],
      "outputs": [],
      "metadata": {
        "id": "KPrh_4F9RCgb"
      }
    },
    {
      "cell_type": "markdown",
      "source": [
        "Define function to get the labels for a sentence."
      ],
      "metadata": {
        "id": "PZwEnrYraqi7"
      }
    },
    {
      "cell_type": "code",
      "execution_count": 7,
      "source": [
        "# Define a function to get the labels for a sentence.\r\n",
        "def getLabelsInListForOneSentence(labels):\r\n",
        "  return labels.split()"
      ],
      "outputs": [],
      "metadata": {
        "id": "N7Tt2NncirYD"
      }
    },
    {
      "cell_type": "markdown",
      "source": [
        "Example features for a sentence\n"
      ],
      "metadata": {
        "id": "ZHCv5BWRTQb9"
      }
    },
    {
      "cell_type": "code",
      "execution_count": 8,
      "source": [
        "# Apply function 'getFeaturesForOneSentence' to get features on a single sentence which is at index value 5 in train_sentences\r\n",
        "example_sentence = train_sentences[5]\r\n",
        "print(example_sentence)\r\n",
        "\r\n",
        "features = getFeaturesForOneSentence(example_sentence)\r\n",
        "features[2]"
      ],
      "outputs": [
        {
          "output_type": "stream",
          "name": "stdout",
          "text": [
            "a place that serves soft serve ice cream \n",
            "\n"
          ]
        },
        {
          "output_type": "execute_result",
          "data": {
            "text/plain": [
              "['word.lower=that',\n",
              " 'word[-3:]=hat',\n",
              " 'word[-2:]=at',\n",
              " 'word.isupper=False',\n",
              " 'word.isdigit=False',\n",
              " 'words.startsWithCapital=False',\n",
              " 'prev_word.lower=place',\n",
              " 'prev_word.isupper=False',\n",
              " 'prev_word.isdigit=False',\n",
              " 'prev_words.startsWithCapital=False']"
            ]
          },
          "metadata": {},
          "execution_count": 8
        }
      ],
      "metadata": {
        "colab": {
          "base_uri": "https://localhost:8080/"
        },
        "id": "1RzuYcYgSc_x",
        "outputId": "a12da80f-0012-455a-a7ff-41431136d121"
      }
    },
    {
      "cell_type": "markdown",
      "source": [
        "Get the features for sentences of X_train and X_test and get the labels of Y_train and Y_test data."
      ],
      "metadata": {
        "id": "kf6NcY2YdPW2"
      }
    },
    {
      "cell_type": "code",
      "execution_count": 9,
      "source": [
        "X_train = [getFeaturesForOneSentence(sentence) for sentence in train_sentences]\r\n",
        "Y_train = [getLabelsInListForOneSentence(labels) for labels in train_labels]\r\n",
        "\r\n",
        "X_test = [getFeaturesForOneSentence(sentence) for sentence in test_sentences]\r\n",
        "Y_test = [getLabelsInListForOneSentence(labels) for labels in test_labels]"
      ],
      "outputs": [],
      "metadata": {
        "id": "G0hQZN9TSjMb"
      }
    },
    {
      "cell_type": "markdown",
      "source": [
        "#CRF Model Training\n",
        "\n",
        " Now we have all the information we need to train our CRF. Let us see how we can do that."
      ],
      "metadata": {
        "id": "i4upm9ar-iKc"
      }
    },
    {
      "cell_type": "code",
      "execution_count": 10,
      "source": [
        "import sklearn_crfsuite\r\n",
        "\r\n",
        "from sklearn_crfsuite import metrics"
      ],
      "outputs": [],
      "metadata": {
        "id": "Kwm-aTb7hftp"
      }
    },
    {
      "cell_type": "markdown",
      "source": [
        "We create a CRF object and passtraining data to it. The model then \"trains\" and learns the weights for feature functions."
      ],
      "metadata": {
        "id": "EudVs1-uPHFs"
      }
    },
    {
      "cell_type": "code",
      "execution_count": 11,
      "source": [
        "# Build the CRF model.\r\n",
        "crf = sklearn_crfsuite.CRF(max_iterations=100)\r\n",
        "crf.fit(X_train, Y_train)"
      ],
      "outputs": [
        {
          "output_type": "stream",
          "name": "stderr",
          "text": [
            "C:\\Tools\\Anaconda3\\lib\\site-packages\\sklearn\\base.py:209: FutureWarning: From version 0.24, get_params will raise an AttributeError if a parameter cannot be retrieved as an instance attribute. Previously it would return None.\n",
            "  warnings.warn('From version 0.24, get_params will raise an '\n"
          ]
        },
        {
          "output_type": "execute_result",
          "data": {
            "text/plain": [
              "CRF(keep_tempfiles=None, max_iterations=100)"
            ]
          },
          "metadata": {},
          "execution_count": 11
        }
      ],
      "metadata": {
        "colab": {
          "base_uri": "https://localhost:8080/"
        },
        "id": "XuKjdgGwhM_e",
        "outputId": "a907c690-b90a-4105-f0d6-cde19e07dbd4"
      }
    },
    {
      "cell_type": "markdown",
      "source": [
        "#Model Testing and Evaluation \n",
        "The model is trained, let us now see how good it performs on the test data."
      ],
      "metadata": {
        "id": "13ziiBZecMUJ"
      }
    },
    {
      "cell_type": "code",
      "execution_count": 12,
      "source": [
        "# Calculate the f1 score using the test data\r\n",
        "Y_pred = crf.predict(X_test)\r\n",
        "metrics.flat_f1_score(Y_test, Y_pred, average='weighted')"
      ],
      "outputs": [
        {
          "output_type": "execute_result",
          "data": {
            "text/plain": [
              "0.8740523969978531"
            ]
          },
          "metadata": {},
          "execution_count": 12
        }
      ],
      "metadata": {
        "colab": {
          "base_uri": "https://localhost:8080/",
          "height": 198
        },
        "id": "E75RH6VujmAs",
        "outputId": "78440723-54f5-4fb9-8765-6975ac66c1d8"
      }
    },
    {
      "cell_type": "code",
      "execution_count": 13,
      "source": [
        "# Print the orginal labels and predicted labels for the sentence  in test data, which is at index value 10.\r\n",
        "id = 10\r\n",
        "print(\"Sentence:\",test_sentences[id])\r\n",
        "print(\"Orig Labels:\", Y_test[id])\r\n",
        "print(\"Pred Labels:\", Y_pred[id])"
      ],
      "outputs": [
        {
          "output_type": "stream",
          "name": "stdout",
          "text": [
            "Sentence: any places around here that has a nice view \n",
            "\n",
            "Orig Labels: ['O', 'O', 'B-Location', 'I-Location', 'O', 'O', 'O', 'B-Amenity', 'I-Amenity']\n",
            "Pred Labels: ['O', 'O', 'B-Location', 'I-Location', 'O', 'O', 'O', 'B-Amenity', 'I-Amenity']\n"
          ]
        }
      ],
      "metadata": {
        "colab": {
          "base_uri": "https://localhost:8080/",
          "height": 232
        },
        "id": "S8sfl1j-k3jw",
        "outputId": "7ee06369-808f-425f-9456-03f145b4058b"
      }
    },
    {
      "cell_type": "markdown",
      "source": [
        "#Transitions Learned by CRF"
      ],
      "metadata": {
        "id": "IxSGnW9bFrxV"
      }
    },
    {
      "cell_type": "code",
      "execution_count": 14,
      "source": [
        "from util import print_top_likely_transitions\r\n",
        "from util import print_top_unlikely_transitions"
      ],
      "outputs": [],
      "metadata": {
        "id": "AoaKikLDRunC"
      }
    },
    {
      "cell_type": "code",
      "execution_count": 15,
      "source": [
        "print_top_likely_transitions(crf.transition_features_)"
      ],
      "outputs": [
        {
          "output_type": "stream",
          "name": "stdout",
          "text": [
            "B-Restaurant_Name -> I-Restaurant_Name 6.783277\n",
            "B-Location -> I-Location 6.714641\n",
            "B-Amenity -> I-Amenity 6.688603\n",
            "I-Location -> I-Location 6.461619\n",
            "I-Amenity -> I-Amenity 6.200732\n",
            "B-Dish -> I-Dish  5.915027\n",
            "B-Hours -> I-Hours 5.887605\n",
            "I-Restaurant_Name -> I-Restaurant_Name 5.867967\n",
            "B-Cuisine -> I-Cuisine 5.555127\n",
            "I-Hours -> I-Hours 5.438011\n"
          ]
        }
      ],
      "metadata": {
        "colab": {
          "base_uri": "https://localhost:8080/"
        },
        "id": "4zU4ZHyUSymU",
        "outputId": "8c5b4dde-3a8d-4f66-97ba-b3e17b482b01"
      }
    },
    {
      "cell_type": "code",
      "execution_count": 16,
      "source": [
        "print_top_unlikely_transitions(crf.transition_features_)"
      ],
      "outputs": [
        {
          "output_type": "stream",
          "name": "stdout",
          "text": [
            "B-Price -> B-Location -0.642352\n",
            "I-Location -> B-Dish  -0.728748\n",
            "I-Dish -> B-Cuisine -0.827694\n",
            "I-Price -> B-Location -0.882408\n",
            "I-Hours -> O       -0.885287\n",
            "I-Rating -> O       -0.944451\n",
            "B-Restaurant_Name -> B-Cuisine -0.945381\n",
            "I-Price -> O       -0.951991\n",
            "I-Restaurant_Name -> B-Dish  -1.096267\n",
            "I-Restaurant_Name -> B-Cuisine -1.128238\n"
          ]
        }
      ],
      "metadata": {
        "colab": {
          "base_uri": "https://localhost:8080/"
        },
        "id": "0JgRe2HES0t1",
        "outputId": "4c0e469c-4100-40b5-80ec-5f74d8e5180b"
      }
    },
    {
      "cell_type": "code",
      "execution_count": null,
      "source": [],
      "outputs": [],
      "metadata": {
        "id": "3X1oXlQ3IMlZ"
      }
    }
  ]
}