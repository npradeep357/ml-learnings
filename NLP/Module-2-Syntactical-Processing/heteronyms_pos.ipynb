{
 "cells": [
  {
   "cell_type": "code",
   "execution_count": 1,
   "source": [
    "import spacy\r\n",
    "model = spacy.load('en_core_web_sm')"
   ],
   "outputs": [],
   "metadata": {}
  },
  {
   "cell_type": "code",
   "execution_count": 9,
   "source": [
    "def printTags(scentence):\r\n",
    "    tokens = model(scentence)\r\n",
    "    for token in tokens:\r\n",
    "        print(token.text, \"---\", token.pos_, \"---\", token.tag_)"
   ],
   "outputs": [],
   "metadata": {}
  },
  {
   "cell_type": "code",
   "execution_count": 10,
   "source": [
    "printTags(\"She wished she could desert him in the desert.\")"
   ],
   "outputs": [
    {
     "output_type": "stream",
     "name": "stdout",
     "text": [
      "She --- PRON --- PRP\n",
      "wished --- VERB --- VBD\n",
      "she --- PRON --- PRP\n",
      "could --- AUX --- MD\n",
      "desert --- VERB --- VB\n",
      "him --- PRON --- PRP\n",
      "in --- ADP --- IN\n",
      "the --- DET --- DT\n",
      "desert --- NOUN --- NN\n",
      ". --- PUNCT --- .\n"
     ]
    }
   ],
   "metadata": {}
  },
  {
   "cell_type": "code",
   "execution_count": 11,
   "source": [
    "printTags('Apple is looking at buying UK-based start-up for $1 billion')"
   ],
   "outputs": [
    {
     "output_type": "stream",
     "name": "stdout",
     "text": [
      "Apple --- PROPN --- NNP\n",
      "is --- AUX --- VBZ\n",
      "looking --- VERB --- VBG\n",
      "at --- ADP --- IN\n",
      "buying --- VERB --- VBG\n",
      "UK --- PROPN --- NNP\n",
      "- --- PUNCT --- HYPH\n",
      "based --- VERB --- VBN\n",
      "start --- NOUN --- NN\n",
      "- --- PUNCT --- HYPH\n",
      "up --- NOUN --- NN\n",
      "for --- ADP --- IN\n",
      "$ --- SYM --- $\n",
      "1 --- NUM --- CD\n",
      "billion --- NUM --- CD\n"
     ]
    }
   ],
   "metadata": {}
  },
  {
   "cell_type": "code",
   "execution_count": 12,
   "source": [
    "printTags('UpGrad is teaching Data Science courses to the working professionals')"
   ],
   "outputs": [
    {
     "output_type": "stream",
     "name": "stdout",
     "text": [
      "UpGrad --- PROPN --- NNP\n",
      "is --- AUX --- VBZ\n",
      "teaching --- VERB --- VBG\n",
      "Data --- PROPN --- NNP\n",
      "Science --- PROPN --- NNP\n",
      "courses --- NOUN --- NNS\n",
      "to --- ADP --- IN\n",
      "the --- DET --- DT\n",
      "working --- VERB --- VBG\n",
      "professionals --- NOUN --- NNS\n"
     ]
    }
   ],
   "metadata": {}
  },
  {
   "cell_type": "code",
   "execution_count": 13,
   "source": [
    "printTags('He is handsome')"
   ],
   "outputs": [
    {
     "output_type": "stream",
     "name": "stdout",
     "text": [
      "He --- PRON --- PRP\n",
      "is --- AUX --- VBZ\n",
      "handsome --- ADJ --- JJ\n"
     ]
    }
   ],
   "metadata": {}
  },
  {
   "cell_type": "code",
   "execution_count": null,
   "source": [],
   "outputs": [],
   "metadata": {}
  }
 ],
 "metadata": {
  "orig_nbformat": 4,
  "language_info": {
   "name": "python",
   "version": "3.9.6",
   "mimetype": "text/x-python",
   "codemirror_mode": {
    "name": "ipython",
    "version": 3
   },
   "pygments_lexer": "ipython3",
   "nbconvert_exporter": "python",
   "file_extension": ".py"
  },
  "kernelspec": {
   "name": "python3",
   "display_name": "Python 3.9.6 64-bit"
  },
  "interpreter": {
   "hash": "593d114b5a37efc49ac6bd5496f0496027154ecfb36472b8cce6beb026f23cc8"
  }
 },
 "nbformat": 4,
 "nbformat_minor": 2
}