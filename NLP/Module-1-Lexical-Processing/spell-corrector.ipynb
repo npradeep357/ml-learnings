{
 "cells": [
  {
   "cell_type": "code",
   "execution_count": 1,
   "source": [
    "import re\r\n",
    "from collections import Counter"
   ],
   "outputs": [],
   "metadata": {}
  },
  {
   "cell_type": "code",
   "execution_count": 2,
   "source": [
    "# function to tokenise words\r\n",
    "def words(document):\r\n",
    "    \"Convert text to lower case and tokenise the document\"\r\n",
    "    return re.findall(r'\\w+', document.lower())"
   ],
   "outputs": [],
   "metadata": {}
  },
  {
   "cell_type": "code",
   "execution_count": 3,
   "source": [
    "# create a frequency table of all the words of the document\r\n",
    "all_words = Counter(words(open('big.txt').read()))"
   ],
   "outputs": [],
   "metadata": {}
  },
  {
   "cell_type": "code",
   "execution_count": 4,
   "source": [
    "# check frequency of a random word, say, 'chair'\r\n",
    "all_words['chair']"
   ],
   "outputs": [
    {
     "output_type": "execute_result",
     "data": {
      "text/plain": [
       "135"
      ]
     },
     "metadata": {},
     "execution_count": 4
    }
   ],
   "metadata": {}
  },
  {
   "cell_type": "code",
   "execution_count": 5,
   "source": [
    "# look at top 10 frequent words\r\n",
    "all_words.most_common(10)"
   ],
   "outputs": [
    {
     "output_type": "execute_result",
     "data": {
      "text/plain": [
       "[('the', 79809),\n",
       " ('of', 40024),\n",
       " ('and', 38312),\n",
       " ('to', 28765),\n",
       " ('in', 22023),\n",
       " ('a', 21124),\n",
       " ('that', 12512),\n",
       " ('he', 12401),\n",
       " ('was', 11410),\n",
       " ('it', 10681)]"
      ]
     },
     "metadata": {},
     "execution_count": 5
    }
   ],
   "metadata": {}
  },
  {
   "cell_type": "code",
   "execution_count": 6,
   "source": [
    "def edits_one(word):\r\n",
    "    \"Create all edits that are one edit away from `word`.\"\r\n",
    "    alphabets    = 'abcdefghijklmnopqrstuvwxyz'\r\n",
    "    splits     = [(word[:i], word[i:])                   for i in range(len(word) + 1)]\r\n",
    "    deletes    = [left + right[1:]                       for left, right in splits if right]\r\n",
    "    inserts    = [left + c + right                       for left, right in splits for c in alphabets]\r\n",
    "    replaces   = [left + c + right[1:]                   for left, right in splits if right for c in alphabets]\r\n",
    "    transposes = [left + right[1] + right[0] + right[2:] for left, right in splits if len(right)>1]\r\n",
    "    return set(deletes + inserts + replaces + transposes)"
   ],
   "outputs": [],
   "metadata": {}
  },
  {
   "cell_type": "code",
   "execution_count": 7,
   "source": [
    "def edits_two(word):\r\n",
    "    \"Create all edits that are two edits away from `word`.\"\r\n",
    "    return (e2 for e1 in edits_one(word) for e2 in edits_one(e1))"
   ],
   "outputs": [],
   "metadata": {}
  },
  {
   "cell_type": "code",
   "execution_count": 8,
   "source": [
    "def known(words):\r\n",
    "    \"The subset of `words` that appear in the `all_words`.\"\r\n",
    "    return set(word for word in words if word in all_words)"
   ],
   "outputs": [],
   "metadata": {}
  },
  {
   "cell_type": "code",
   "execution_count": 9,
   "source": [
    "def possible_corrections(word):\r\n",
    "    \"Generate possible spelling corrections for word.\"\r\n",
    "    return (known([word]) or known(edits_one(word)) or known(edits_two(word)) or [word])"
   ],
   "outputs": [],
   "metadata": {}
  },
  {
   "cell_type": "code",
   "execution_count": 10,
   "source": [
    "def prob(word, N=sum(all_words.values())): \r\n",
    "    \"Probability of `word`: Number of appearances of 'word' / total number of tokens\"\r\n",
    "    return all_words[word] / N"
   ],
   "outputs": [],
   "metadata": {}
  },
  {
   "cell_type": "code",
   "execution_count": 11,
   "source": [
    "\r\n",
    "print(len(set(edits_two(\"emfasize\"))))\r\n",
    "print(possible_corrections(\"bad\"))\r\n"
   ],
   "outputs": [
    {
     "output_type": "stream",
     "name": "stdout",
     "text": [
      "90902\n",
      "{'bad'}\n"
     ]
    }
   ],
   "metadata": {}
  },
  {
   "cell_type": "code",
   "execution_count": 12,
   "source": [
    "print(len(set(edits_one(\"monney\"))))\r\n",
    "print(edits_one(\"monney\"))"
   ],
   "outputs": [
    {
     "output_type": "stream",
     "name": "stdout",
     "text": [
      "336\n",
      "{'movney', 'moncney', 'moiney', 'monneyp', 'moneny', 'konney', 'mjonney', 'monnwey', 'money', 'mpnney', 'mhnney', 'monnyey', 'monhey', 'munney', 'monjney', 'monnly', 'mogney', 'monnjey', 'mtnney', 'mocnney', 'monneyg', 'monuey', 'monzey', 'monneh', 'monne', 'moncey', 'mnoney', 'monhney', 'eonney', 'monneyq', 'smonney', 'pmonney', 'monnaey', 'monnfey', 'monneyo', 'umonney', 'maonney', 'mornney', 'monneyt', 'jmonney', 'monnxey', 'monnhy', 'monnye', 'moenney', 'aonney', 'monnehy', 'honney', 'monnuy', 'mobnney', 'ymonney', 'monnney', 'donney', 'monneyy', 'mbnney', 'movnney', 'mongey', 'mrnney', 'uonney', 'mmonney', 'monley', 'qonney', 'tonney', 'monnhey', 'monlney', 'monnet', 'monneyz', 'monneq', 'mtonney', 'monndey', 'monneya', 'monncy', 'moyney', 'monnzy', 'mondney', 'menney', 'ponney', 'monneuy', 'monyney', 'jonney', 'monjey', 'mosney', 'monner', 'monvey', 'mounney', 'monpney', 'moinney', 'monneky', 'mcnney', 'mofney', 'ronney', 'monnef', 'dmonney', 'monnbey', 'moxney', 'monnel', 'mojnney', 'monniey', 'monoey', 'monnew', 'mmnney', 'monneyh', 'minney', 'monnery', 'mnonney', 'monneyw', 'monnep', 'oonney', 'mopney', 'moniey', 'monnpey', 'motnney', 'monneqy', 'monneyf', 'mynney', 'monnwy', 'monnejy', 'moznney', 'imonney', 'mkonney', 'mocney', 'monnky', 'monfey', 'monnmey', 'mqnney', 'mokney', 'moknney', 'monnemy', 'monneyc', 'nmonney', 'onney', 'monnec', 'mxonney', 'wonney', 'monnrey', 'manney', 'monniy', 'mfonney', 'mionney', 'monxney', 'momney', 'mgnney', 'monnsy', 'monnesy', 'morney', 'monneo', 'rmonney', 'yonney', 'monnxy', 'omnney', 'mlonney', 'montey', 'omonney', 'monmey', 'mqonney', 'mownney', 'monxey', 'mosnney', 'muonney', 'mdnney', 'mononey', 'monwey', 'monneb', 'mznney', 'monkey', 'monnely', 'monnefy', 'mdonney', 'molney', 'mronney', 'mongney', 'mxnney', 'monnqey', 'monnegy', 'bonney', 'monnewy', 'monmney', 'monnedy', 'mlnney', 'monneyj', 'mopnney', 'monvney', 'monneu', 'monneoy', 'monnley', 'monneey', 'monnty', 'mozney', 'mnney', 'mouney', 'monneyd', 'monnek', 'monneyr', 'mbonney', 'monngey', 'monnsey', 'myonney', 'hmonney', 'monsney', 'mponney', 'monyey', 'monnqy', 'monngy', 'monneyl', 'monneny', 'mhonney', 'monnez', 'moneney', 'monzney', 'monsey', 'moanney', 'monnkey', 'monnej', 'mvnney', 'mojney', 'monnpy', 'monaey', 'msonney', 'monwney', 'mwonney', 'wmonney', 'monneys', 'qmonney', 'monneyv', 'monqey', 'monnen', 'monned', 'gonney', 'monbney', 'motney', 'monnby', 'monkney', 'monnvy', 'mvonney', 'mgonney', 'monnoey', 'monnei', 'monnepy', 'monneyn', 'monneym', 'mwnney', 'monnfy', 'fmonney', 'mzonney', 'monfney', 'monneyb', 'vonney', 'monneay', 'monnay', 'monneye', 'mohney', 'monnecy', 'monney', 'zmonney', 'modnney', 'monntey', 'moonney', 'monnezy', 'monnem', 'monndy', 'mfnney', 'cmonney', 'monbey', 'msnney', 'ionney', 'monnyy', 'mooney', 'monnee', 'xmonney', 'mognney', 'mofnney', 'monny', 'gmonney', 'monneyx', 'emonney', 'monnevy', 'mobney', 'monnny', 'xonney', 'monnev', 'vmonney', 'monnzey', 'mknney', 'monnry', 'moneey', 'tmonney', 'monnea', 'monqney', 'monneby', 'moeney', 'momnney', 'monaney', 'nonney', 'monneg', 'moaney', 'mondey', 'mconney', 'monneyu', 'monrney', 'monnety', 'montney', 'monnoy', 'bmonney', 'monneiy', 'mowney', 'monnuey', 'monnvey', 'monneyi', 'moniney', 'fonney', 'monpey', 'sonney', 'amonney', 'monnexy', 'monnes', 'modney', 'monnjy', 'mohnney', 'lonney', 'molnney', 'monneyk', 'kmonney', 'monnmy', 'lmonney', 'monnex', 'conney', 'mjnney', 'moqney', 'monrey', 'meonney', 'monncey', 'zonney', 'mnnney', 'moqnney', 'moynney', 'moxnney', 'monuney'}\n"
     ]
    }
   ],
   "metadata": {}
  },
  {
   "cell_type": "code",
   "execution_count": 13,
   "source": [
    "print(known(edits_one(\"monney\")))"
   ],
   "outputs": [
    {
     "output_type": "stream",
     "name": "stdout",
     "text": [
      "{'monkey', 'money'}\n"
     ]
    }
   ],
   "metadata": {}
  },
  {
   "cell_type": "code",
   "execution_count": 14,
   "source": [
    "# Let's look at words that are two edits away\r\n",
    "print(len(set(edits_two(\"monney\"))))\r\n",
    "print(known(edits_one(\"monney\")))"
   ],
   "outputs": [
    {
     "output_type": "stream",
     "name": "stdout",
     "text": [
      "51013\n",
      "{'monkey', 'money'}\n"
     ]
    }
   ],
   "metadata": {}
  },
  {
   "cell_type": "code",
   "execution_count": 15,
   "source": [
    "# Let's look at possible corrections of a word\r\n",
    "print(possible_corrections(\"monney\"))"
   ],
   "outputs": [
    {
     "output_type": "stream",
     "name": "stdout",
     "text": [
      "{'monkey', 'money'}\n"
     ]
    }
   ],
   "metadata": {}
  },
  {
   "cell_type": "code",
   "execution_count": 16,
   "source": [
    "# Let's look at probability of a word\r\n",
    "print(prob(\"money\"))\r\n",
    "print(prob(\"monkey\"))"
   ],
   "outputs": [
    {
     "output_type": "stream",
     "name": "stdout",
     "text": [
      "0.0002922233626303688\n",
      "5.378344097491451e-06\n"
     ]
    }
   ],
   "metadata": {}
  },
  {
   "cell_type": "code",
   "execution_count": 17,
   "source": [
    "def spell_check(word):\r\n",
    "    \"Print the most probable spelling correction for `word` out of all the `possible_corrections`\"\r\n",
    "    correct_word = max(possible_corrections(word), key=prob)\r\n",
    "    if correct_word != word:\r\n",
    "        return \"Did you mean \" + correct_word + \"?\"\r\n",
    "    else:\r\n",
    "        return \"Correct spelling.\""
   ],
   "outputs": [],
   "metadata": {}
  },
  {
   "cell_type": "code",
   "execution_count": 18,
   "source": [
    "# test spell check\r\n",
    "print(spell_check(\"monney\"))"
   ],
   "outputs": [
    {
     "output_type": "stream",
     "name": "stdout",
     "text": [
      "Did you mean money?\n"
     ]
    }
   ],
   "metadata": {}
  },
  {
   "cell_type": "code",
   "execution_count": 19,
   "source": [
    "# test spell check\r\n",
    "print(spell_check(\"bugk\"))"
   ],
   "outputs": [
    {
     "output_type": "stream",
     "name": "stdout",
     "text": [
      "Did you mean bulk?\n"
     ]
    }
   ],
   "metadata": {}
  },
  {
   "cell_type": "code",
   "execution_count": null,
   "source": [],
   "outputs": [],
   "metadata": {}
  }
 ],
 "metadata": {
  "kernelspec": {
   "name": "python3",
   "display_name": "Python 3.9.6 64-bit"
  },
  "language_info": {
   "codemirror_mode": {
    "name": "ipython",
    "version": 3
   },
   "file_extension": ".py",
   "mimetype": "text/x-python",
   "name": "python",
   "nbconvert_exporter": "python",
   "pygments_lexer": "ipython3",
   "version": "3.9.6"
  },
  "interpreter": {
   "hash": "593d114b5a37efc49ac6bd5496f0496027154ecfb36472b8cce6beb026f23cc8"
  }
 },
 "nbformat": 4,
 "nbformat_minor": 4
}