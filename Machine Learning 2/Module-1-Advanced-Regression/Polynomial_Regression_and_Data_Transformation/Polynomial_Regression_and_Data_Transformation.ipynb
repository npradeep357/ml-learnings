{
  "nbformat": 4,
  "nbformat_minor": 0,
  "metadata": {
    "colab": {
      "name": "Polynomial Regression and Data Transformation.ipynb",
      "provenance": [],
      "toc_visible": true
    },
    "kernelspec": {
      "name": "python3",
      "display_name": "Python 3"
    }
  },
  "cells": [
    {
      "cell_type": "code",
      "metadata": {
        "id": "7q9s7AAxgDGY"
      },
      "source": [
        "# importing the requisite libraries\r\n",
        "\r\n",
        "import numpy as np\r\n",
        "import pandas as pd\r\n",
        "import matplotlib.pyplot as plt\r\n",
        "import seaborn as sns\r\n",
        "from sklearn.linear_model import LinearRegression\r\n",
        "from sklearn.metrics import r2_score, mean_squared_error\r\n",
        "\r\n",
        "import warnings\r\n",
        "warnings.filterwarnings('ignore')"
      ],
      "execution_count": 3,
      "outputs": []
    },
    {
      "cell_type": "markdown",
      "metadata": {
        "id": "UyR0EdRHm3lb"
      },
      "source": [
        "### Modeling non-linear relationship using Polynomial Regression"
      ]
    },
    {
      "cell_type": "code",
      "metadata": {
        "id": "8KNPRGw2VYJ6",
        "colab": {
          "base_uri": "https://localhost:8080/",
          "height": 195
        },
        "outputId": "f54a23d0-d3af-4dac-fcd1-1f4f6a2ef1c8"
      },
      "source": [
        "# Model to predict marks given the number of courses taken and the time the student gives to study \n",
        "# on a daily basis.\n",
        "data = pd.read_csv(\"AR - Examples - 1.6.csv\")\n",
        "data.head()"
      ],
      "execution_count": 4,
      "outputs": [
        {
          "output_type": "execute_result",
          "data": {
            "text/html": [
              "<div>\n",
              "<style scoped>\n",
              "    .dataframe tbody tr th:only-of-type {\n",
              "        vertical-align: middle;\n",
              "    }\n",
              "\n",
              "    .dataframe tbody tr th {\n",
              "        vertical-align: top;\n",
              "    }\n",
              "\n",
              "    .dataframe thead th {\n",
              "        text-align: right;\n",
              "    }\n",
              "</style>\n",
              "<table border=\"1\" class=\"dataframe\">\n",
              "  <thead>\n",
              "    <tr style=\"text-align: right;\">\n",
              "      <th></th>\n",
              "      <th>number_courses</th>\n",
              "      <th>time_study</th>\n",
              "      <th>Marks</th>\n",
              "    </tr>\n",
              "  </thead>\n",
              "  <tbody>\n",
              "    <tr>\n",
              "      <th>0</th>\n",
              "      <td>3</td>\n",
              "      <td>4.508</td>\n",
              "      <td>19.202</td>\n",
              "    </tr>\n",
              "    <tr>\n",
              "      <th>1</th>\n",
              "      <td>4</td>\n",
              "      <td>0.096</td>\n",
              "      <td>7.734</td>\n",
              "    </tr>\n",
              "    <tr>\n",
              "      <th>2</th>\n",
              "      <td>4</td>\n",
              "      <td>3.133</td>\n",
              "      <td>13.811</td>\n",
              "    </tr>\n",
              "    <tr>\n",
              "      <th>3</th>\n",
              "      <td>6</td>\n",
              "      <td>7.909</td>\n",
              "      <td>53.018</td>\n",
              "    </tr>\n",
              "    <tr>\n",
              "      <th>4</th>\n",
              "      <td>8</td>\n",
              "      <td>7.811</td>\n",
              "      <td>55.299</td>\n",
              "    </tr>\n",
              "  </tbody>\n",
              "</table>\n",
              "</div>"
            ],
            "text/plain": [
              "   number_courses  time_study   Marks\n",
              "0               3       4.508  19.202\n",
              "1               4       0.096   7.734\n",
              "2               4       3.133  13.811\n",
              "3               6       7.909  53.018\n",
              "4               8       7.811  55.299"
            ]
          },
          "metadata": {
            "tags": []
          },
          "execution_count": 4
        }
      ]
    },
    {
      "cell_type": "code",
      "metadata": {
        "id": "nQQC0bwpYH0n",
        "colab": {
          "base_uri": "https://localhost:8080/",
          "height": 297
        },
        "outputId": "a9db6163-f0b9-4770-aac6-dc305a89c7cd"
      },
      "source": [
        "# Plotting a scatter plot\n",
        "sns.scatterplot( data = data , x = 'number_courses' , y = 'Marks')"
      ],
      "execution_count": 5,
      "outputs": [
        {
          "output_type": "execute_result",
          "data": {
            "text/plain": [
              "<matplotlib.axes._subplots.AxesSubplot at 0x7f395c2f12e8>"
            ]
          },
          "metadata": {
            "tags": []
          },
          "execution_count": 5
        },
        {
          "output_type": "display_data",
          "data": {
            "image/png": "[encoded data removed]",
            "text/plain": [
              "<Figure size 432x288 with 1 Axes>"
            ]
          },
          "metadata": {
            "tags": [],
            "needs_background": "light"
          }
        }
      ]
    },
    {
      "cell_type": "code",
      "metadata": {
        "id": "H-YVPqtbYH0r",
        "colab": {
          "base_uri": "https://localhost:8080/",
          "height": 297
        },
        "outputId": "ae370dc2-6fc4-43e9-f676-4c0bf2dbc5dd"
      },
      "source": [
        "# Plotting a scatter plot\n",
        "sns.scatterplot( data = data , x = 'time_study' , y = 'Marks')"
      ],
      "execution_count": 6,
      "outputs": [
        {
          "output_type": "execute_result",
          "data": {
            "text/plain": [
              "<matplotlib.axes._subplots.AxesSubplot at 0x7f395b7b97b8>"
            ]
          },
          "metadata": {
            "tags": []
          },
          "execution_count": 6
        },
        {
          "output_type": "display_data",
          "data": {
            "image/png": "[encoded data removed]",
            "text/plain": [
              "<Figure size 432x288 with 1 Axes>"
            ]
          },
          "metadata": {
            "tags": [],
            "needs_background": "light"
          }
        }
      ]
    },
    {
      "cell_type": "code",
      "metadata": {
        "id": "wyzsOLxvYH0y"
      },
      "source": [
        "# Splitting the dataset into X and y\n",
        "X = data[['number_courses' , 'time_study']]\n",
        "y = np.array(data['Marks']).reshape(-1,1)"
      ],
      "execution_count": 7,
      "outputs": []
    },
    {
      "cell_type": "code",
      "metadata": {
        "id": "aGX4nAAPYH00",
        "colab": {
          "base_uri": "https://localhost:8080/"
        },
        "outputId": "24eaadb7-9aca-47e6-aab1-b6ef00f942da"
      },
      "source": [
        "# Building the regression model\n",
        "reg = LinearRegression()\n",
        "reg.fit(X,y)"
      ],
      "execution_count": 8,
      "outputs": [
        {
          "output_type": "execute_result",
          "data": {
            "text/plain": [
              "LinearRegression(copy_X=True, fit_intercept=True, n_jobs=None, normalize=False)"
            ]
          },
          "metadata": {
            "tags": []
          },
          "execution_count": 8
        }
      ]
    },
    {
      "cell_type": "code",
      "metadata": {
        "id": "IqDN8e84YH02"
      },
      "source": [
        "# Predictions on the basis of the model\n",
        "y_pred = reg.predict(X)\n",
        "#y_pred"
      ],
      "execution_count": 9,
      "outputs": []
    },
    {
      "cell_type": "code",
      "metadata": {
        "id": "pegMvW_DYH04",
        "colab": {
          "base_uri": "https://localhost:8080/"
        },
        "outputId": "ee61d305-9db9-493d-bf4f-156cbf429f87"
      },
      "source": [
        "# Find the value of r squared\n",
        "r2_score(y , y_pred)"
      ],
      "execution_count": 10,
      "outputs": [
        {
          "output_type": "execute_result",
          "data": {
            "text/plain": [
              "0.9403656320238896"
            ]
          },
          "metadata": {
            "tags": []
          },
          "execution_count": 10
        }
      ]
    },
    {
      "cell_type": "code",
      "metadata": {
        "id": "ekn8Kn8ZYH1D",
        "colab": {
          "base_uri": "https://localhost:8080/"
        },
        "outputId": "fe9cd9bf-750e-4228-8637-668fc76d3b11"
      },
      "source": [
        "# Calculate beta0 and beta1.\n",
        "print(reg.intercept_)\n",
        "print(reg.coef_)"
      ],
      "execution_count": 11,
      "outputs": [
        {
          "output_type": "stream",
          "text": [
            "[-7.45634623]\n",
            "[[1.86405074 5.39917879]]\n"
          ],
          "name": "stdout"
        }
      ]
    },
    {
      "cell_type": "code",
      "metadata": {
        "id": "cdlVIYH1YH1F",
        "colab": {
          "base_uri": "https://localhost:8080/"
        },
        "outputId": "fd2f3ccd-f4bd-4226-f6d9-fedebb168cbb"
      },
      "source": [
        "# Metrics to give an overall sense of error in the model\n",
        "rss = np.sum(np.square(y - y_pred))\n",
        "print(rss)\n",
        "mse = mean_squared_error(y, y_pred)\n",
        "print(mse)\n",
        "rmse = mse**0.5\n",
        "print(rmse)"
      ],
      "execution_count": 12,
      "outputs": [
        {
          "output_type": "stream",
          "text": [
            "1211.6962069108947\n",
            "12.116962069108947\n",
            "3.48094269833747\n"
          ],
          "name": "stdout"
        }
      ]
    },
    {
      "cell_type": "code",
      "metadata": {
        "id": "J9PaDywRYH1H"
      },
      "source": [
        "# Residual analysis\n",
        "y_res = y - y_pred\n",
        "#y_res"
      ],
      "execution_count": 13,
      "outputs": []
    },
    {
      "cell_type": "code",
      "metadata": {
        "id": "TLShNOYsM737",
        "colab": {
          "base_uri": "https://localhost:8080/",
          "height": 279
        },
        "outputId": "d0065de5-2fab-471d-d8e0-350812eae860"
      },
      "source": [
        "data['res'] = y_res\n",
        "plt.scatter( y_pred , data['res'])\n",
        "plt.axhline(y=0, color='r', linestyle=':')\n",
        "plt.xlabel(\"Predictions\")\n",
        "plt.ylabel(\"Residual\")\n",
        "plt.show()"
      ],
      "execution_count": 14,
      "outputs": [
        {
          "output_type": "display_data",
          "data": {
            "image/png": "[encoded data removed]",
            "text/plain": [
              "<Figure size 432x288 with 1 Axes>"
            ]
          },
          "metadata": {
            "tags": [],
            "needs_background": "light"
          }
        }
      ]
    },
    {
      "cell_type": "markdown",
      "metadata": {
        "id": "-BwrFMy5ekn0"
      },
      "source": [
        "Checking which variable is non-linearly related to the response value"
      ]
    },
    {
      "cell_type": "code",
      "metadata": {
        "id": "EAT8NM-KYH1K",
        "colab": {
          "base_uri": "https://localhost:8080/",
          "height": 279
        },
        "outputId": "2345b753-27ff-4278-f4ca-4248f75bc5ee"
      },
      "source": [
        "data['res'] = y_res\n",
        "plt.scatter( data['number_courses'] , data['res'])\n",
        "plt.axhline(y=0, color='r', linestyle=':')\n",
        "plt.xlabel(\"Number courses\")\n",
        "plt.ylabel(\"Residual\")\n",
        "plt.show()"
      ],
      "execution_count": 15,
      "outputs": [
        {
          "output_type": "display_data",
          "data": {
            "image/png": "[encoded data removed]",
            "text/plain": [
              "<Figure size 432x288 with 1 Axes>"
            ]
          },
          "metadata": {
            "tags": [],
            "needs_background": "light"
          }
        }
      ]
    },
    {
      "cell_type": "code",
      "metadata": {
        "id": "5Y2GAw74Z2yf",
        "colab": {
          "base_uri": "https://localhost:8080/",
          "height": 279
        },
        "outputId": "2635eda9-ecc4-46b3-bde2-3cb2969ccf8d"
      },
      "source": [
        "plt.scatter( data['time_study'] , data['res'])\n",
        "plt.axhline(y=0, color='r', linestyle=':')\n",
        "plt.xlabel(\"Time study\")\n",
        "plt.ylabel(\"Residual\")\n",
        "plt.show()"
      ],
      "execution_count": 16,
      "outputs": [
        {
          "output_type": "display_data",
          "data": {
            "image/png": "[encoded data removed]",
            "text/plain": [
              "<Figure size 432x288 with 1 Axes>"
            ]
          },
          "metadata": {
            "tags": [],
            "needs_background": "light"
          }
        }
      ]
    },
    {
      "cell_type": "code",
      "metadata": {
        "id": "SR569GE7YH1M",
        "colab": {
          "base_uri": "https://localhost:8080/",
          "height": 295
        },
        "outputId": "8b2d7f51-6357-4cb7-d02f-3d21b26e43e0"
      },
      "source": [
        "# Distribution of errors\n",
        "p = sns.distplot(y_res,kde=True)\n",
        "\n",
        "p = plt.title('Normality of error terms/residuals')\n",
        "plt.xlabel(\"Residuals\")\n",
        "plt.show()"
      ],
      "execution_count": 17,
      "outputs": [
        {
          "output_type": "display_data",
          "data": {
            "image/png": "[encoded data removed]",
            "text/plain": [
              "<Figure size 432x288 with 1 Axes>"
            ]
          },
          "metadata": {
            "tags": [],
            "needs_background": "light"
          }
        }
      ]
    },
    {
      "cell_type": "code",
      "metadata": {
        "id": "jLUTX2Ezekn2"
      },
      "source": [
        ""
      ],
      "execution_count": 17,
      "outputs": []
    },
    {
      "cell_type": "code",
      "metadata": {
        "id": "fw5zjyUrekn2"
      },
      "source": [
        ""
      ],
      "execution_count": 17,
      "outputs": []
    },
    {
      "cell_type": "code",
      "metadata": {
        "id": "af-Dc2Nrekn2"
      },
      "source": [
        ""
      ],
      "execution_count": 17,
      "outputs": []
    },
    {
      "cell_type": "code",
      "metadata": {
        "id": "KB3eSTsgekn2"
      },
      "source": [
        ""
      ],
      "execution_count": 17,
      "outputs": []
    },
    {
      "cell_type": "code",
      "metadata": {
        "id": "NjvX_GhRekn3"
      },
      "source": [
        ""
      ],
      "execution_count": 17,
      "outputs": []
    },
    {
      "cell_type": "code",
      "metadata": {
        "id": "XlLLghKmekn3"
      },
      "source": [
        ""
      ],
      "execution_count": 17,
      "outputs": []
    },
    {
      "cell_type": "code",
      "metadata": {
        "id": "hBqRB8gCekn3"
      },
      "source": [
        ""
      ],
      "execution_count": 17,
      "outputs": []
    },
    {
      "cell_type": "code",
      "metadata": {
        "id": "p2OJkPrIekn3"
      },
      "source": [
        ""
      ],
      "execution_count": 17,
      "outputs": []
    },
    {
      "cell_type": "code",
      "metadata": {
        "id": "Rj0jIVH0ekn4"
      },
      "source": [
        ""
      ],
      "execution_count": 17,
      "outputs": []
    },
    {
      "cell_type": "code",
      "metadata": {
        "id": "pBLhdxX8ekn4"
      },
      "source": [
        ""
      ],
      "execution_count": 17,
      "outputs": []
    },
    {
      "cell_type": "code",
      "metadata": {
        "id": "422KhyOLekn4"
      },
      "source": [
        ""
      ],
      "execution_count": 17,
      "outputs": []
    },
    {
      "cell_type": "markdown",
      "metadata": {
        "id": "2sJeRTkqvtW5"
      },
      "source": [
        "### Fitting Polynomial Regression Model "
      ]
    },
    {
      "cell_type": "code",
      "metadata": {
        "id": "1Y7IkfB4aGhC"
      },
      "source": [
        "# Transforming the time_study variable\n",
        "data['time_study_squared'] = data['time_study']*data['time_study']"
      ],
      "execution_count": 18,
      "outputs": []
    },
    {
      "cell_type": "code",
      "metadata": {
        "id": "dYSB-UWCQ2Jq",
        "colab": {
          "base_uri": "https://localhost:8080/",
          "height": 279
        },
        "outputId": "5dc2b64d-3e13-4c41-c143-025edefa0bc7"
      },
      "source": [
        "plt.scatter( data['time_study_squared'] , data['Marks'])\n",
        "plt.xlabel(\"Time study squared\")\n",
        "plt.ylabel(\"Marks\")\n",
        "plt.show()"
      ],
      "execution_count": 19,
      "outputs": [
        {
          "output_type": "display_data",
          "data": {
            "image/png": "[encoded data removed]",
            "text/plain": [
              "<Figure size 432x288 with 1 Axes>"
            ]
          },
          "metadata": {
            "tags": [],
            "needs_background": "light"
          }
        }
      ]
    },
    {
      "cell_type": "code",
      "metadata": {
        "id": "Asbt6moioop2"
      },
      "source": [
        "# Splitting the dataset into X and y\n",
        "X = data[['number_courses' , 'time_study', 'time_study_squared']] \n",
        "y = np.array(data['Marks']).reshape(-1,1)"
      ],
      "execution_count": 20,
      "outputs": []
    },
    {
      "cell_type": "code",
      "metadata": {
        "id": "aRbQ3STYoop6",
        "colab": {
          "base_uri": "https://localhost:8080/"
        },
        "outputId": "8fe8ee84-2e70-432d-fbb3-d8eb4a7a35d8"
      },
      "source": [
        "# Building the regression model\n",
        "reg = LinearRegression()\n",
        "reg.fit(X,y)"
      ],
      "execution_count": 21,
      "outputs": [
        {
          "output_type": "execute_result",
          "data": {
            "text/plain": [
              "LinearRegression(copy_X=True, fit_intercept=True, n_jobs=None, normalize=False)"
            ]
          },
          "metadata": {
            "tags": []
          },
          "execution_count": 21
        }
      ]
    },
    {
      "cell_type": "code",
      "metadata": {
        "id": "iwlR0PG6oop9"
      },
      "source": [
        "# Predictions on the basis of the model\n",
        "y_pred = reg.predict(X)\n",
        "# y_pred"
      ],
      "execution_count": 22,
      "outputs": []
    },
    {
      "cell_type": "code",
      "metadata": {
        "id": "bUGyZkBSooqA",
        "colab": {
          "base_uri": "https://localhost:8080/"
        },
        "outputId": "0a4bbd46-b22a-4c25-a0b8-56c3e7806fec"
      },
      "source": [
        "# Find the value of r squared\n",
        "r2_score(y , y_pred)"
      ],
      "execution_count": 23,
      "outputs": [
        {
          "output_type": "execute_result",
          "data": {
            "text/plain": [
              "0.9996529294889802"
            ]
          },
          "metadata": {
            "tags": []
          },
          "execution_count": 23
        }
      ]
    },
    {
      "cell_type": "code",
      "metadata": {
        "id": "HgAjmrchooqC",
        "colab": {
          "base_uri": "https://localhost:8080/",
          "height": 279
        },
        "outputId": "4d10e682-7961-426b-8647-c5fdb10680fb"
      },
      "source": [
        "plt.scatter( X['number_courses'] , y , color = 'red')\n",
        "plt.scatter( X['number_courses'] , y_pred , color = 'blue' )\n",
        "plt.xlabel(\"Number Courses\")\n",
        "plt.ylabel(\"Marks\")\n",
        "plt.show()"
      ],
      "execution_count": 24,
      "outputs": [
        {
          "output_type": "display_data",
          "data": {
            "image/png": "[encoded data removed]",
            "text/plain": [
              "<Figure size 432x288 with 1 Axes>"
            ]
          },
          "metadata": {
            "tags": [],
            "needs_background": "light"
          }
        }
      ]
    },
    {
      "cell_type": "code",
      "metadata": {
        "id": "yFdPbj-EooqE",
        "colab": {
          "base_uri": "https://localhost:8080/",
          "height": 279
        },
        "outputId": "6c813a80-b936-46fd-8f14-39f0fe6b42b2"
      },
      "source": [
        "plt.scatter( X['time_study_squared'] , y , color = 'red')\n",
        "plt.scatter( X['time_study_squared'] , y_pred , color = 'blue' )\n",
        "plt.xlabel(\"Time Study Squared\")\n",
        "plt.ylabel(\"Marks\")\n",
        "plt.show()"
      ],
      "execution_count": 25,
      "outputs": [
        {
          "output_type": "display_data",
          "data": {
            "image/png": "[encoded data removed]",
            "text/plain": [
              "<Figure size 432x288 with 1 Axes>"
            ]
          },
          "metadata": {
            "tags": [],
            "needs_background": "light"
          }
        }
      ]
    },
    {
      "cell_type": "code",
      "metadata": {
        "id": "nr6m2q7PooqG",
        "colab": {
          "base_uri": "https://localhost:8080/"
        },
        "outputId": "f15e09e1-d7e3-425b-81b8-1de51931a714"
      },
      "source": [
        "# Calculate beta0 and beta1.\n",
        "print(reg.intercept_)\n",
        "print(reg.coef_)"
      ],
      "execution_count": 26,
      "outputs": [
        {
          "output_type": "stream",
          "text": [
            "[0.56299581]\n",
            "[[ 1.70546941 -0.02855268  0.67346253]]\n"
          ],
          "name": "stdout"
        }
      ]
    },
    {
      "cell_type": "code",
      "metadata": {
        "id": "AgaZ_6gbooqI",
        "colab": {
          "base_uri": "https://localhost:8080/"
        },
        "outputId": "38837445-9091-455d-f012-8ccc069e81cb"
      },
      "source": [
        "#Residual Sum of Squares = Mean_Squared_Error * Total number of datapoints\n",
        "rss = np.sum(np.square(y - y_pred))\n",
        "print(rss)\n",
        "mse = mean_squared_error(y, y_pred)\n",
        "print(mse)\n",
        "rmse = mse**0.5\n",
        "print(rmse)"
      ],
      "execution_count": 27,
      "outputs": [
        {
          "output_type": "stream",
          "text": [
            "7.052041230683799\n",
            "0.07052041230683799\n",
            "0.2655567967626474\n"
          ],
          "name": "stdout"
        }
      ]
    },
    {
      "cell_type": "code",
      "metadata": {
        "id": "jHrr08xdooqK"
      },
      "source": [
        "# Residual analysis\n",
        "y_res = y - y_pred\n",
        "#y_res"
      ],
      "execution_count": 28,
      "outputs": []
    },
    {
      "cell_type": "code",
      "metadata": {
        "id": "qYGD-wiXekn9",
        "colab": {
          "base_uri": "https://localhost:8080/",
          "height": 279
        },
        "outputId": "e9be2d48-1a4c-4753-c198-e4c4db91ae31"
      },
      "source": [
        "data['res'] = y_res\n",
        "plt.scatter( y_pred , data['res'])\n",
        "plt.axhline(y=0, color='r', linestyle=':')\n",
        "plt.xlabel(\"Predictions\")\n",
        "plt.ylabel(\"Residual\")\n",
        "plt.show()"
      ],
      "execution_count": 29,
      "outputs": [
        {
          "output_type": "display_data",
          "data": {
            "image/png": "[encoded data removed]",
            "text/plain": [
              "<Figure size 432x288 with 1 Axes>"
            ]
          },
          "metadata": {
            "tags": [],
            "needs_background": "light"
          }
        }
      ]
    },
    {
      "cell_type": "code",
      "metadata": {
        "id": "YH1-x6xlooqN",
        "colab": {
          "base_uri": "https://localhost:8080/",
          "height": 279
        },
        "outputId": "ce231022-0936-4fcc-c8d5-8acc879d4ec0"
      },
      "source": [
        "data['res'] = y_res\n",
        "plt.scatter( data['number_courses'] , data['res'])\n",
        "plt.axhline(y=0, color='r', linestyle=':')\n",
        "plt.xlabel(\"Number courses\")\n",
        "plt.ylabel(\"Residual\")\n",
        "plt.show()"
      ],
      "execution_count": 30,
      "outputs": [
        {
          "output_type": "display_data",
          "data": {
            "image/png": "[encoded data removed]",
            "text/plain": [
              "<Figure size 432x288 with 1 Axes>"
            ]
          },
          "metadata": {
            "tags": [],
            "needs_background": "light"
          }
        }
      ]
    },
    {
      "cell_type": "code",
      "metadata": {
        "id": "XcE_5tXRooqP",
        "colab": {
          "base_uri": "https://localhost:8080/",
          "height": 279
        },
        "outputId": "c033484e-733d-4a36-f83c-cb2b3a8ee0ee"
      },
      "source": [
        "plt.scatter( data['time_study_squared'] , data['res'])\n",
        "plt.axhline(y=0, color='r', linestyle=':')\n",
        "plt.xlabel(\"Time study Squared\")\n",
        "plt.ylabel(\"Residual\")\n",
        "plt.show()"
      ],
      "execution_count": 31,
      "outputs": [
        {
          "output_type": "display_data",
          "data": {
            "image/png": "[encoded data removed]",
            "text/plain": [
              "<Figure size 432x288 with 1 Axes>"
            ]
          },
          "metadata": {
            "tags": [],
            "needs_background": "light"
          }
        }
      ]
    },
    {
      "cell_type": "code",
      "metadata": {
        "id": "806WZJMvooqT",
        "colab": {
          "base_uri": "https://localhost:8080/",
          "height": 295
        },
        "outputId": "4ebbc0dc-53e5-4e7b-ab2e-83bfc00f5142"
      },
      "source": [
        "# Distribution of errors\n",
        "p = sns.distplot(y_res,kde=True)\n",
        "\n",
        "p = plt.title('Normality of error terms/residuals')\n",
        "plt.xlabel(\"Residuals\")\n",
        "plt.show()"
      ],
      "execution_count": 32,
      "outputs": [
        {
          "output_type": "display_data",
          "data": {
            "image/png": "[encoded data removed]",
            "text/plain": [
              "<Figure size 432x288 with 1 Axes>"
            ]
          },
          "metadata": {
            "tags": [],
            "needs_background": "light"
          }
        }
      ]
    },
    {
      "cell_type": "code",
      "metadata": {
        "id": "arw-Zo8mSRV7"
      },
      "source": [
        ""
      ],
      "execution_count": 32,
      "outputs": []
    },
    {
      "cell_type": "markdown",
      "metadata": {
        "id": "AB-7WEzzmvET"
      },
      "source": [
        "### Modeling non-linear relationships using data transformation"
      ]
    },
    {
      "cell_type": "markdown",
      "metadata": {
        "id": "8k50BFpznpkw"
      },
      "source": [
        "Here, we need to make a model which predicts how much distance is covered by a truck in a given time unit after a break is applied."
      ]
    },
    {
      "cell_type": "code",
      "metadata": {
        "colab": {
          "base_uri": "https://localhost:8080/",
          "height": 195
        },
        "id": "OCXjKgllP0Lk",
        "outputId": "ec02c9c4-fc3a-43ec-9917-da4123ed0627"
      },
      "source": [
        "dist = pd.read_csv(r\"AR - Examples - 1.5.csv\")\n",
        "dist.head()"
      ],
      "execution_count": 33,
      "outputs": [
        {
          "output_type": "execute_result",
          "data": {
            "text/html": [
              "<div>\n",
              "<style scoped>\n",
              "    .dataframe tbody tr th:only-of-type {\n",
              "        vertical-align: middle;\n",
              "    }\n",
              "\n",
              "    .dataframe tbody tr th {\n",
              "        vertical-align: top;\n",
              "    }\n",
              "\n",
              "    .dataframe thead th {\n",
              "        text-align: right;\n",
              "    }\n",
              "</style>\n",
              "<table border=\"1\" class=\"dataframe\">\n",
              "  <thead>\n",
              "    <tr style=\"text-align: right;\">\n",
              "      <th></th>\n",
              "      <th>time</th>\n",
              "      <th>distance</th>\n",
              "    </tr>\n",
              "  </thead>\n",
              "  <tbody>\n",
              "    <tr>\n",
              "      <th>0</th>\n",
              "      <td>1</td>\n",
              "      <td>0.419660</td>\n",
              "    </tr>\n",
              "    <tr>\n",
              "      <th>1</th>\n",
              "      <td>2</td>\n",
              "      <td>1.350692</td>\n",
              "    </tr>\n",
              "    <tr>\n",
              "      <th>2</th>\n",
              "      <td>3</td>\n",
              "      <td>2.470342</td>\n",
              "    </tr>\n",
              "    <tr>\n",
              "      <th>3</th>\n",
              "      <td>4</td>\n",
              "      <td>1.566856</td>\n",
              "    </tr>\n",
              "    <tr>\n",
              "      <th>4</th>\n",
              "      <td>5</td>\n",
              "      <td>1.595280</td>\n",
              "    </tr>\n",
              "  </tbody>\n",
              "</table>\n",
              "</div>"
            ],
            "text/plain": [
              "   time  distance\n",
              "0     1  0.419660\n",
              "1     2  1.350692\n",
              "2     3  2.470342\n",
              "3     4  1.566856\n",
              "4     5  1.595280"
            ]
          },
          "metadata": {
            "tags": []
          },
          "execution_count": 33
        }
      ]
    },
    {
      "cell_type": "code",
      "metadata": {
        "id": "OVCCqjyvQRRt",
        "colab": {
          "base_uri": "https://localhost:8080/",
          "height": 279
        },
        "outputId": "bfdea22a-fb30-4c76-9349-0d7a6368d99f"
      },
      "source": [
        "# Plotting a scatter plot\n",
        "sns.scatterplot( data = dist , x ='time' , y='distance')\n",
        "plt.show()"
      ],
      "execution_count": 34,
      "outputs": [
        {
          "output_type": "display_data",
          "data": {
            "image/png": "[encoded data removed]",
            "text/plain": [
              "<Figure size 432x288 with 1 Axes>"
            ]
          },
          "metadata": {
            "tags": [],
            "needs_background": "light"
          }
        }
      ]
    },
    {
      "cell_type": "code",
      "metadata": {
        "id": "J7ixDMYcQ0ZI"
      },
      "source": [
        "# Splitting the dataset into X and y\n",
        "X = np.array(dist['time']).reshape(-1,1)\n",
        "y = np.array(dist['distance']).reshape(-1,1)"
      ],
      "execution_count": 35,
      "outputs": []
    },
    {
      "cell_type": "code",
      "metadata": {
        "id": "4qSfoX2TQbDE"
      },
      "source": [
        "# Building the regression model\n",
        "model = LinearRegression()"
      ],
      "execution_count": 36,
      "outputs": []
    },
    {
      "cell_type": "code",
      "metadata": {
        "id": "7zQZyMkYQxZd",
        "colab": {
          "base_uri": "https://localhost:8080/"
        },
        "outputId": "01b15e7d-b906-40b4-dbad-5709699c3a2d"
      },
      "source": [
        "model.fit(X, y)"
      ],
      "execution_count": 37,
      "outputs": [
        {
          "output_type": "execute_result",
          "data": {
            "text/plain": [
              "LinearRegression(copy_X=True, fit_intercept=True, n_jobs=None, normalize=False)"
            ]
          },
          "metadata": {
            "tags": []
          },
          "execution_count": 37
        }
      ]
    },
    {
      "cell_type": "code",
      "metadata": {
        "id": "QYPbYCKfRVck"
      },
      "source": [
        "# Predictions on the basis of the model\n",
        "y_pred2 = model.predict(X)\n",
        "# y_pred2"
      ],
      "execution_count": 38,
      "outputs": []
    },
    {
      "cell_type": "code",
      "metadata": {
        "id": "YOHRRYgYRnZh",
        "colab": {
          "base_uri": "https://localhost:8080/"
        },
        "outputId": "e8e8d8ca-a9ff-4ee3-b54d-630040f8a6cd"
      },
      "source": [
        "# Find the value of r squared\n",
        "r2_score(y, y_pred2)"
      ],
      "execution_count": 39,
      "outputs": [
        {
          "output_type": "execute_result",
          "data": {
            "text/plain": [
              "0.7019700219367477"
            ]
          },
          "metadata": {
            "tags": []
          },
          "execution_count": 39
        }
      ]
    },
    {
      "cell_type": "code",
      "metadata": {
        "id": "FenOPM6eeknm",
        "colab": {
          "base_uri": "https://localhost:8080/",
          "height": 279
        },
        "outputId": "ada81499-0571-4b3a-a6f6-43b0d61768e8"
      },
      "source": [
        "plt.scatter( X , y , color = 'blue')\n",
        "plt.plot(X , y_pred2 , color = 'red' , linewidth = 3)\n",
        "plt.xlabel(\"time\")\n",
        "plt.ylabel(\"distance\")\n",
        "plt.show()"
      ],
      "execution_count": 40,
      "outputs": [
        {
          "output_type": "display_data",
          "data": {
            "image/png": "[encoded data removed]",
            "text/plain": [
              "<Figure size 432x288 with 1 Axes>"
            ]
          },
          "metadata": {
            "tags": [],
            "needs_background": "light"
          }
        }
      ]
    },
    {
      "cell_type": "code",
      "metadata": {
        "id": "Ed_rLssSU_AN",
        "colab": {
          "base_uri": "https://localhost:8080/"
        },
        "outputId": "bd0699f3-fa00-4cc7-842f-f98a38261ebb"
      },
      "source": [
        "# Calculate beta0 and beta1.\n",
        "print(model.intercept_)\n",
        "print(model.coef_)"
      ],
      "execution_count": 41,
      "outputs": [
        {
          "output_type": "stream",
          "text": [
            "[3.01233335]\n",
            "[[0.02494362]]\n"
          ],
          "name": "stdout"
        }
      ]
    },
    {
      "cell_type": "code",
      "metadata": {
        "id": "SdZ4Pg2qU_A0",
        "colab": {
          "base_uri": "https://localhost:8080/"
        },
        "outputId": "467137b7-61b8-4966-8329-0f540cf0c924"
      },
      "source": [
        "# Metrics to give an overall sense of error in the model\n",
        "rss = np.sum(np.square(y - y_pred2))\n",
        "print(rss)\n",
        "mse = mean_squared_error(y, y_pred2)\n",
        "print(mse)\n",
        "rmse = mse**0.5\n",
        "print(rmse)\n"
      ],
      "execution_count": 42,
      "outputs": [
        {
          "output_type": "stream",
          "text": [
            "38.035808448707726\n",
            "0.3169650704058977\n",
            "0.5629965101187553\n"
          ],
          "name": "stdout"
        }
      ]
    },
    {
      "cell_type": "code",
      "metadata": {
        "id": "yjkyLZthRyrz"
      },
      "source": [
        "#residual\n",
        "residual = y - y_pred2"
      ],
      "execution_count": 43,
      "outputs": []
    },
    {
      "cell_type": "code",
      "metadata": {
        "id": "yq1zygHBR7uT",
        "colab": {
          "base_uri": "https://localhost:8080/",
          "height": 279
        },
        "outputId": "9c9d2044-56b2-486d-e707-d00bf3732b11"
      },
      "source": [
        "# Scatter plot of the predicted values on the x-axis and the residuals on the y-axis\n",
        "plt.scatter( y_pred2 , residual)\n",
        "plt.axhline(y=0, color='r', linestyle=':')\n",
        "plt.xlabel(\"Predicted Distance (metres)\")\n",
        "plt.ylabel(\"Residual\")\n",
        "plt.show()"
      ],
      "execution_count": 44,
      "outputs": [
        {
          "output_type": "display_data",
          "data": {
            "image/png": "[encoded data removed]",
            "text/plain": [
              "<Figure size 432x288 with 1 Axes>"
            ]
          },
          "metadata": {
            "tags": [],
            "needs_background": "light"
          }
        }
      ]
    },
    {
      "cell_type": "code",
      "metadata": {
        "id": "kWRnv8RmU_A7",
        "colab": {
          "base_uri": "https://localhost:8080/",
          "height": 295
        },
        "outputId": "415729b2-b9b2-469d-a196-8affc9f9a285"
      },
      "source": [
        "# Distribution of errors\n",
        "p = sns.distplot(residual,kde=True)\n",
        "p = plt.title('Normality of error terms/residuals')\n",
        "plt.xlabel(\"Residual\")\n",
        "plt.show()"
      ],
      "execution_count": 45,
      "outputs": [
        {
          "output_type": "display_data",
          "data": {
            "image/png": "[encoded data removed]",
            "text/plain": [
              "<Figure size 432x288 with 1 Axes>"
            ]
          },
          "metadata": {
            "tags": [],
            "needs_background": "light"
          }
        }
      ]
    },
    {
      "cell_type": "code",
      "metadata": {
        "id": "iZydkRm_GZTg"
      },
      "source": [
        "# As we can see that the residuals do not fulfill the conditions for linear regression, Lets see if we can make some changes so that the residuals are normally distributed.\n",
        "\n",
        "dist['time (seconds)(log)'] = np.log(dist['time'])"
      ],
      "execution_count": 46,
      "outputs": []
    },
    {
      "cell_type": "code",
      "metadata": {
        "id": "L5pRvbyzP56h",
        "colab": {
          "base_uri": "https://localhost:8080/",
          "height": 279
        },
        "outputId": "69fc8270-8e6f-4a5e-e22b-085390cfd76a"
      },
      "source": [
        "# Plotting a scatter plot\n",
        "sns.scatterplot( data = dist , x ='time (seconds)(log)' , y='distance')\n",
        "plt.show()"
      ],
      "execution_count": 47,
      "outputs": [
        {
          "output_type": "display_data",
          "data": {
            "image/png": "[encoded data removed]",
            "text/plain": [
              "<Figure size 432x288 with 1 Axes>"
            ]
          },
          "metadata": {
            "tags": [],
            "needs_background": "light"
          }
        }
      ]
    },
    {
      "cell_type": "code",
      "metadata": {
        "id": "eGaZ6aH2GeR5"
      },
      "source": [
        "# Splitting the dataset into X and y\n",
        "X = np.array(dist['time (seconds)(log)']).reshape(-1,1)\n",
        "y = np.array(dist['distance']).reshape(-1,1)"
      ],
      "execution_count": 48,
      "outputs": []
    },
    {
      "cell_type": "code",
      "metadata": {
        "id": "F4CkavBbGeli",
        "colab": {
          "base_uri": "https://localhost:8080/"
        },
        "outputId": "c9427656-9181-4e1f-a2d9-f0e91a3a7f91"
      },
      "source": [
        "# Building the regression model\n",
        "model = LinearRegression()\n",
        "\n",
        "model.fit(X, y)"
      ],
      "execution_count": 49,
      "outputs": [
        {
          "output_type": "execute_result",
          "data": {
            "text/plain": [
              "LinearRegression(copy_X=True, fit_intercept=True, n_jobs=None, normalize=False)"
            ]
          },
          "metadata": {
            "tags": []
          },
          "execution_count": 49
        }
      ]
    },
    {
      "cell_type": "code",
      "metadata": {
        "id": "w0tcA9ZYGe7l"
      },
      "source": [
        "# Predictions on the basis of the model\n",
        "y_pred2 = model.predict(X)\n",
        "# y_pred2"
      ],
      "execution_count": 50,
      "outputs": []
    },
    {
      "cell_type": "code",
      "metadata": {
        "id": "mi0YdcvhGfKv",
        "colab": {
          "base_uri": "https://localhost:8080/"
        },
        "outputId": "a8986948-a05b-4a48-fa95-508292cd21cf"
      },
      "source": [
        "# Find the value of r squared\n",
        "r2_score(y, y_pred2)"
      ],
      "execution_count": 51,
      "outputs": [
        {
          "output_type": "execute_result",
          "data": {
            "text/plain": [
              "0.8717123012103078"
            ]
          },
          "metadata": {
            "tags": []
          },
          "execution_count": 51
        }
      ]
    },
    {
      "cell_type": "code",
      "metadata": {
        "id": "co43cHt_eknr",
        "colab": {
          "base_uri": "https://localhost:8080/",
          "height": 279
        },
        "outputId": "96800ceb-6ae6-42bc-808e-d84e963e37ba"
      },
      "source": [
        "plt.scatter( X , y , color = 'blue')\n",
        "plt.plot(X , y_pred2 , color = 'red' , linewidth = 3)\n",
        "plt.xlabel(\"time (seconds)(log)\")\n",
        "plt.ylabel(\"distance\")\n",
        "plt.show()"
      ],
      "execution_count": 52,
      "outputs": [
        {
          "output_type": "display_data",
          "data": {
            "image/png": "[encoded data removed]",
            "text/plain": [
              "<Figure size 432x288 with 1 Axes>"
            ]
          },
          "metadata": {
            "tags": [],
            "needs_background": "light"
          }
        }
      ]
    },
    {
      "cell_type": "code",
      "metadata": {
        "id": "F5_SnhXPGgGR",
        "colab": {
          "base_uri": "https://localhost:8080/"
        },
        "outputId": "d4ce7f34-47f7-49ff-cfec-c68c84fc661a"
      },
      "source": [
        "# Calculate beta0 and beta1.\n",
        "print(model.intercept_)\n",
        "print(model.coef_)"
      ],
      "execution_count": 53,
      "outputs": [
        {
          "output_type": "stream",
          "text": [
            "[0.58066733]\n",
            "[[1.03293534]]\n"
          ],
          "name": "stdout"
        }
      ]
    },
    {
      "cell_type": "code",
      "metadata": {
        "id": "Awrqfc0TGt9H",
        "colab": {
          "base_uri": "https://localhost:8080/"
        },
        "outputId": "03c829c9-2cd8-423b-a934-0a17ed3989a9"
      },
      "source": [
        "# Metrics to give an overall sense of error in the model\n",
        "rss = np.sum(np.square(y - y_pred2))\n",
        "print(rss)\n",
        "mse = mean_squared_error(y, y_pred2)\n",
        "print(mse)\n",
        "rmse = mse**0.5\n",
        "print(rmse)"
      ],
      "execution_count": 54,
      "outputs": [
        {
          "output_type": "stream",
          "text": [
            "16.37260241134079\n",
            "0.13643835342783991\n",
            "0.36937562646693395\n"
          ],
          "name": "stdout"
        }
      ]
    },
    {
      "cell_type": "code",
      "metadata": {
        "id": "o-eMLCGCGfi_"
      },
      "source": [
        "#residual\n",
        "residual = y - y_pred2"
      ],
      "execution_count": 55,
      "outputs": []
    },
    {
      "cell_type": "code",
      "metadata": {
        "id": "YxL2MJuLGf1r",
        "colab": {
          "base_uri": "https://localhost:8080/",
          "height": 279
        },
        "outputId": "cf9ebac6-2932-487e-e76d-3c7194cdd338"
      },
      "source": [
        "plt.scatter( y_pred2 , residual)\n",
        "plt.axhline(y=0, color='r', linestyle=':')\n",
        "plt.xlabel(\"Predicted Distance (metres)\")\n",
        "plt.ylabel(\"Residual\")\n",
        "plt.show()"
      ],
      "execution_count": 56,
      "outputs": [
        {
          "output_type": "display_data",
          "data": {
            "image/png": "[encoded data removed]",
            "text/plain": [
              "<Figure size 432x288 with 1 Axes>"
            ]
          },
          "metadata": {
            "tags": [],
            "needs_background": "light"
          }
        }
      ]
    },
    {
      "cell_type": "code",
      "metadata": {
        "id": "Mo-yITcvGt2s",
        "colab": {
          "base_uri": "https://localhost:8080/",
          "height": 295
        },
        "outputId": "e3081136-c170-47e4-d099-ad31cb8a1fbe"
      },
      "source": [
        "\n",
        "# Distribution of errors\n",
        "p = sns.distplot(residual,kde=True)\n",
        "p = plt.title('Normality of error terms/residuals')\n",
        "plt.xlabel(\"Residual\")\n",
        "plt.show()"
      ],
      "execution_count": 57,
      "outputs": [
        {
          "output_type": "display_data",
          "data": {
            "image/png": "[encoded data removed]",
            "text/plain": [
              "<Figure size 432x288 with 1 Axes>"
            ]
          },
          "metadata": {
            "tags": [],
            "needs_background": "light"
          }
        }
      ]
    }
  ]
}