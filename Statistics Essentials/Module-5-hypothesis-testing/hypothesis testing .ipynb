{
 "cells": [
  {
   "cell_type": "markdown",
   "id": "chief-tennessee",
   "metadata": {},
   "source": [
    "# Hypothesis testing in Python"
   ]
  },
  {
   "cell_type": "markdown",
   "id": "brown-range",
   "metadata": {},
   "source": [
    "### 1-sample t-test: testing the value of a population mean"
   ]
  },
  {
   "cell_type": "markdown",
   "id": "aggregate-tactics",
   "metadata": {},
   "source": [
    "#### To test, if the population mean of data is likely to be equal to a given value"
   ]
  },
  {
   "cell_type": "code",
   "execution_count": null,
   "id": "optical-abortion",
   "metadata": {},
   "outputs": [],
   "source": [
    "scipy.stats.ttest_1samp()"
   ]
  },
  {
   "cell_type": "code",
   "execution_count": null,
   "id": "infrared-details",
   "metadata": {},
   "outputs": [],
   "source": [
    "stats.ttest_1samp(data['column'], x)\n",
    "#where x is the mean value you want to test"
   ]
  },
  {
   "cell_type": "markdown",
   "id": "surface-width",
   "metadata": {},
   "source": [
    "### 2-sample t-test: testing for difference across populations"
   ]
  },
  {
   "cell_type": "code",
   "execution_count": null,
   "id": "recent-above",
   "metadata": {},
   "outputs": [],
   "source": [
    "scipy.stats.ttest_ind()\n",
    "\n",
    "stats.ttest_ind(column_1,column_2) "
   ]
  },
  {
   "cell_type": "markdown",
   "id": "answering-tolerance",
   "metadata": {},
   "source": [
    "### Paired tests: repeated measurements on the same individuals"
   ]
  },
  {
   "cell_type": "code",
   "execution_count": null,
   "id": "smart-resistance",
   "metadata": {},
   "outputs": [],
   "source": [
    "stats.ttest_rel()  \n",
    "\n",
    "stats.ttest_rel(column_1,column_2)  "
   ]
  }
 ],
 "metadata": {
  "kernelspec": {
   "display_name": "Python 3",
   "language": "python",
   "name": "python3"
  },
  "language_info": {
   "codemirror_mode": {
    "name": "ipython",
    "version": 3
   },
   "file_extension": ".py",
   "mimetype": "text/x-python",
   "name": "python",
   "nbconvert_exporter": "python",
   "pygments_lexer": "ipython3",
   "version": "3.8.8"
  }
 },
 "nbformat": 4,
 "nbformat_minor": 5
}
