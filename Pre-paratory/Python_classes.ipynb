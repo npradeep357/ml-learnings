{
 "cells": [
  {
   "cell_type": "code",
   "execution_count": 7,
   "metadata": {},
   "outputs": [],
   "source": [
    "class MyClass:\n",
    "    \"\"\"A simple example class\"\"\"\n",
    "    i = 12345\n",
    "\n",
    "    def f(self):\n",
    "        return 'hello world'"
   ]
  },
  {
   "cell_type": "code",
   "execution_count": 9,
   "metadata": {},
   "outputs": [],
   "source": [
    "class Complex:\n",
    "    def __init__(self, realpart, imagpart):\n",
    "        self.r = realpart\n",
    "        self.i = imagpart\n"
   ]
  },
  {
   "cell_type": "code",
   "execution_count": 110,
   "metadata": {},
   "outputs": [],
   "source": [
    "class Card:\n",
    "\n",
    "    _some = 0\n",
    "    \n",
    "    def __init__(self, number, amount):\n",
    "        self.n = number\n",
    "        self.a = amount\n",
    "    \n",
    "    def debit(self, amt):\n",
    "        self.a -= amt\n",
    "        print('rem bal:', self.a)\n",
    "        return amt\n",
    "    \n",
    "    def credit(self, amt):\n",
    "        self.a += amt\n",
    "        print('rem bal:', amt)\n",
    "        return self.a"
   ]
  },
  {
   "cell_type": "code",
   "execution_count": 104,
   "metadata": {},
   "outputs": [],
   "source": [
    "x = Card(287487234, 6300)"
   ]
  },
  {
   "cell_type": "code",
   "execution_count": 107,
   "metadata": {
    "scrolled": true
   },
   "outputs": [
    {
     "data": {
      "text/plain": [
       "['__class__',\n",
       " '__delattr__',\n",
       " '__dict__',\n",
       " '__dir__',\n",
       " '__doc__',\n",
       " '__eq__',\n",
       " '__format__',\n",
       " '__ge__',\n",
       " '__getattribute__',\n",
       " '__gt__',\n",
       " '__hash__',\n",
       " '__init__',\n",
       " '__init_subclass__',\n",
       " '__le__',\n",
       " '__lt__',\n",
       " '__module__',\n",
       " '__ne__',\n",
       " '__new__',\n",
       " '__reduce__',\n",
       " '__reduce_ex__',\n",
       " '__repr__',\n",
       " '__setattr__',\n",
       " '__sizeof__',\n",
       " '__str__',\n",
       " '__subclasshook__',\n",
       " '__weakref__',\n",
       " 'a',\n",
       " 'credit',\n",
       " 'debit',\n",
       " 'n',\n",
       " 'some']"
      ]
     },
     "execution_count": 107,
     "metadata": {},
     "output_type": "execute_result"
    }
   ],
   "source": [
    "dir(x)"
   ]
  },
  {
   "cell_type": "code",
   "execution_count": 101,
   "metadata": {},
   "outputs": [
    {
     "name": "stdout",
     "output_type": "stream",
     "text": [
      "rem bal: 5800\n",
      "debited: 500\n",
      "5800\n",
      "rem bal: 1000\n",
      "credited: 6800\n"
     ]
    }
   ],
   "source": [
    "print('debited:', x.debit(500))\n",
    "print(x.a)\n",
    "print('credited:', x.credit(1000))"
   ]
  },
  {
   "cell_type": "markdown",
   "metadata": {},
   "source": [
    "## Inheritance"
   ]
  },
  {
   "cell_type": "code",
   "execution_count": 168,
   "metadata": {},
   "outputs": [],
   "source": [
    "class CreditCard(Card):\n",
    "    \n",
    "    def __init__(self, number, amount, limit=10000):\n",
    "        super().__init__(number, amount)\n",
    "        self.l = limit\n",
    "    \n",
    "    def showLimit(self):\n",
    "        print('Available limit:', self.limit)"
   ]
  },
  {
   "cell_type": "code",
   "execution_count": 119,
   "metadata": {},
   "outputs": [],
   "source": [
    "y = CreditCard(38435, 234535, 738000)\n",
    "z = CreditCard(343545234,34545)"
   ]
  },
  {
   "cell_type": "code",
   "execution_count": 121,
   "metadata": {},
   "outputs": [
    {
     "name": "stdout",
     "output_type": "stream",
     "text": [
      "738000\n",
      "10000\n"
     ]
    }
   ],
   "source": [
    "print(y.l)\n",
    "print(z.l)"
   ]
  },
  {
   "cell_type": "markdown",
   "metadata": {},
   "source": [
    "## Polymorphism"
   ]
  },
  {
   "cell_type": "code",
   "execution_count": 133,
   "metadata": {},
   "outputs": [],
   "source": [
    "class vehicle:\n",
    "    def __init__(self, wheels, typ):\n",
    "        self.w = wheels\n",
    "        self.t = typ\n",
    "    def printWheels(self):\n",
    "        print('number of wheels for ', self.t, ':', self.w)"
   ]
  },
  {
   "cell_type": "code",
   "execution_count": 137,
   "metadata": {},
   "outputs": [],
   "source": [
    "class car(vehicle):\n",
    "    def __init__(self):\n",
    "        super().__init__(4, 'Car')"
   ]
  },
  {
   "cell_type": "code",
   "execution_count": 157,
   "metadata": {},
   "outputs": [],
   "source": [
    "class bus(vehicle):\n",
    "    def __init__(self):\n",
    "        super().__init__(6, 'Bus')"
   ]
  },
  {
   "cell_type": "code",
   "execution_count": 158,
   "metadata": {},
   "outputs": [],
   "source": [
    "toy = car()\n",
    "b1 = bus()"
   ]
  },
  {
   "cell_type": "code",
   "execution_count": 159,
   "metadata": {},
   "outputs": [
    {
     "name": "stdout",
     "output_type": "stream",
     "text": [
      "<__main__.car object at 0x0000018A8E3D5DC0>\n",
      "<__main__.bus object at 0x0000018A8E3D52B0>\n",
      "number of wheels for  Car : 4\n",
      "number of wheels for  Bus : 6\n"
     ]
    }
   ],
   "source": [
    "print(toy)\n",
    "print(b1)\n",
    "toy.printWheels()\n",
    "b1.printWheels()"
   ]
  },
  {
   "cell_type": "markdown",
   "metadata": {},
   "source": [
    "## Encapsulation"
   ]
  },
  {
   "cell_type": "code",
   "execution_count": 210,
   "metadata": {},
   "outputs": [],
   "source": [
    "from abc import abstractmethod as abs, ABC\n",
    "class Li:\n",
    "    __index = 0\n",
    "    __li = []\n",
    "    _some=0\n",
    "    def add(self, s):\n",
    "        self.__index += 1\n",
    "        self.__li.append(s)\n",
    "    def getIndex(self):\n",
    "        return self.__index\n",
    "    @abs\n",
    "    def setIndex(self, i):\n",
    "        if i>0:\n",
    "            self.__index = i"
   ]
  },
  {
   "cell_type": "code",
   "execution_count": 202,
   "metadata": {},
   "outputs": [],
   "source": [
    "class Xi:\n",
    "    def __init__(self):\n",
    "        self.l = Li()\n",
    "    def getIndex(self):\n",
    "        return self.l.getIndex()"
   ]
  },
  {
   "cell_type": "code",
   "execution_count": 203,
   "metadata": {},
   "outputs": [
    {
     "name": "stdout",
     "output_type": "stream",
     "text": [
      "0\n",
      "0\n",
      "0\n"
     ]
    }
   ],
   "source": [
    "x = Xi()\n",
    "print(x.getIndex())\n",
    "l = Li()\n",
    "print(l.getIndex())\n",
    "l.setIndex(-1)\n",
    "print(l.getIndex())"
   ]
  },
  {
   "cell_type": "code",
   "execution_count": null,
   "metadata": {},
   "outputs": [],
   "source": []
  }
 ],
 "metadata": {
  "kernelspec": {
   "display_name": "Python 3",
   "language": "python",
   "name": "python3"
  },
  "language_info": {
   "codemirror_mode": {
    "name": "ipython",
    "version": 3
   },
   "file_extension": ".py",
   "mimetype": "text/x-python",
   "name": "python",
   "nbconvert_exporter": "python",
   "pygments_lexer": "ipython3",
   "version": "3.8.5"
  }
 },
 "nbformat": 4,
 "nbformat_minor": 4
}
