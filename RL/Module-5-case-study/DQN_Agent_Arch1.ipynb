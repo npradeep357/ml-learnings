{
 "cells": [
  {
   "cell_type": "markdown",
   "metadata": {},
   "source": [
    "### Cab-Driver Agent"
   ]
  },
  {
   "cell_type": "code",
   "execution_count": 3,
   "metadata": {},
   "outputs": [],
   "source": [
    "# Importing libraries\n",
    "import numpy as np\n",
    "import random\n",
    "from collections import deque\n",
    "import collections\n",
    "import pickle\n",
    "import time\n",
    "\n",
    "# for building DQN model\n",
    "from tensorflow.keras import Sequential\n",
    "from tensorflow.keras.layers import Dense\n",
    "from tensorflow.keras.optimizers import Adam\n",
    "\n",
    "# for plotting graphs\n",
    "import matplotlib.pyplot as plt\n",
    "\n",
    "# Import the environment\n",
    "from Env import CabDriver"
   ]
  },
  {
   "cell_type": "markdown",
   "metadata": {},
   "source": [
    "#### Defining Time Matrix"
   ]
  },
  {
   "cell_type": "code",
   "execution_count": 4,
   "metadata": {},
   "outputs": [],
   "source": [
    "# Loading the time matrix provided\n",
    "Time_matrix = np.load(\"TM.npy\")"
   ]
  },
  {
   "cell_type": "markdown",
   "metadata": {},
   "source": [
    "#### Tracking the state-action pairs for checking convergence\n"
   ]
  },
  {
   "cell_type": "code",
   "execution_count": 5,
   "metadata": {},
   "outputs": [
    {
     "name": "stdout",
     "output_type": "stream",
     "text": [
      "0\n"
     ]
    }
   ],
   "source": [
    "States_track = collections.defaultdict(dict)\n",
    "print(len(States_track))"
   ]
  },
  {
   "cell_type": "code",
   "execution_count": 6,
   "metadata": {},
   "outputs": [],
   "source": [
    "# Initialise states to be tracked\n",
    "def initialise_tracking_states():\n",
    "    sample_q_values = [((0, 0, 0), (0,1)), ((0, 0, 0), (0,2))]    \n",
    "    for q_values in sample_q_values:\n",
    "        state = q_values[0]\n",
    "        action = q_values[1]\n",
    "        States_track[state][action] = [] "
   ]
  },
  {
   "cell_type": "code",
   "execution_count": 7,
   "metadata": {},
   "outputs": [],
   "source": [
    "#Defining a function to save the Q-dictionary as a pickle file\n",
    "def save_obj(obj, name ):\n",
    "    with open(name + '.pkl', 'wb') as f:\n",
    "        pickle.dump(obj, f, pickle.HIGHEST_PROTOCOL)"
   ]
  },
  {
   "cell_type": "markdown",
   "metadata": {},
   "source": [
    "### Agent Class\n",
    "\n",
    "If you are using this framework, you need to fill the following to complete the following code block:\n",
    "1. State and Action Size\n",
    "2. Hyperparameters\n",
    "3. Create a neural-network model in function 'build_model()'\n",
    "4. Define epsilon-greedy strategy in function 'get_action()'\n",
    "5. Complete the function 'append_sample()'. This function appends the recent experience tuple <state, action, reward, new-state> to the memory\n",
    "6. Complete the 'train_model()' function with following logic:\n",
    "   - If the memory size is greater than mini-batch size, you randomly sample experiences from memory as per the mini-batch size and do the following:\n",
    "      - Initialise your input and output batch for training the model\n",
    "      - Calculate the target Q value for each sample: reward + gamma*max(Q(s'a,))\n",
    "      - Get Q(s', a) values from the last trained model\n",
    "      - Update the input batch as your encoded state-action and output batch as your Q-values\n",
    "      - Then fit your DQN model using the updated input and output batch."
   ]
  },
  {
   "cell_type": "code",
   "execution_count": 8,
   "metadata": {},
   "outputs": [],
   "source": [
    "class DQNAgent:\n",
    "    def __init__(self, state_size, action_size):\n",
    "        # Define size of state and action\n",
    "        self.state_size = state_size\n",
    "        self.action_size = action_size\n",
    "\n",
    "        # Write here: Specify you hyper parameters for the DQN\n",
    "        self.discount_factor = 0.95\n",
    "        self.learning_rate = 0.001\n",
    "\n",
    "        # defining epsilon\n",
    "        self.epsilon = 1\n",
    "        self.epsilon_decay = 0.09\n",
    "        self.epsilon_min = 0.0001\n",
    "\n",
    "        self.batch_size = 32\n",
    "        # create replay memory using deque\n",
    "        self.memory = deque(maxlen=2000)\n",
    "        \n",
    "        # Initialize the value of the states tracked\n",
    "        self.states_tracked = []\n",
    "        self.track_state = np.array(env.state_encod_arch1([0,0,0])).reshape(1, 36)\n",
    "\n",
    "        # create main model and target model\n",
    "        self.model = self.build_model()\n",
    "\n",
    "    # approximate Q function using Neural Network\n",
    "    def build_model(self):\n",
    "        model = Sequential()\n",
    "        # Adding layers to your neural nets   \n",
    "        # hidden layers\n",
    "        model.add(Dense(32, input_dim=self.state_size, activation='relu', kernel_initializer='he_uniform'))\n",
    "        model.add(Dense(32, activation='relu', kernel_initializer='he_uniform'))\n",
    "\n",
    "        # the output layer: output is of size num_actions\n",
    "        model.add(Dense(self.action_size, activation='relu', kernel_initializer='he_uniform'))\n",
    "\n",
    "        model.compile(loss='mse', optimizer=Adam(learning_rate=self.learning_rate))\n",
    "        return model\n",
    "\n",
    "    def get_action(self, state, action_space):\n",
    "        \"\"\"\n",
    "        get action from model using epsilon-greedy policy\n",
    "        Decay in ε after we generate each sample from the environment\n",
    "        \"\"\"\n",
    "\n",
    "        if np.random.rand() <= self.epsilon:\n",
    "            \n",
    "            possible_actions_index, actions = env.requests(state)\n",
    "\n",
    "            index = random.randrange(len(possible_actions_index))\n",
    "            action_index = possible_actions_index[index]\n",
    "            action = action_space[action_index]\n",
    "            return action_index, action\n",
    "        else:\n",
    "            state = np.array(state).reshape(1, self.state_size)\n",
    "            q_value = self.model.predict(state)\n",
    "            selected_q_value = np.argmax(q_value[0])\n",
    "            return selected_q_value, action_space[selected_q_value]\n",
    "\n",
    "    def append_sample(self, state, action, reward, next_state):\n",
    "        # Write your code here:\n",
    "        # save sample <s,a,r,s'> to the replay memory\n",
    "        self.memory.append((state, action, reward, next_state))\n",
    "\n",
    "    # pick samples randomly from replay memory (with batch_size) and train the network\n",
    "    def train_model(self):\n",
    "        \"\"\"\n",
    "        train the neural network on a minibatch. Input to the network is the states,\n",
    "        output is the target q-value corresponding to each action.\n",
    "        \"\"\"\n",
    "\n",
    "        if len(self.memory) > self.batch_size:\n",
    "\n",
    "            # Sample minibatch from the memory\n",
    "            minibatch = random.sample(self.memory, self.batch_size)\n",
    "\n",
    "            update_output = np.zeros((self.batch_size, self.state_size))  # write here\n",
    "            update_input = np.zeros((self.batch_size, self.state_size))  # write here\n",
    "\n",
    "            actions, rewards = [], []\n",
    "\n",
    "            for i in range(self.batch_size):\n",
    "                state, action, reward, next_state = minibatch[i]\n",
    "                update_input[i] = state\n",
    "                actions.append(action)\n",
    "                rewards.append(reward)\n",
    "                update_output[i] = next_state\n",
    "\n",
    "                # Write your code from here\n",
    "                # 1. Predict the target from earlier model\n",
    "                target = self.model.predict(update_input)\n",
    "\n",
    "                # 2. Get the target for the Q-network\n",
    "                target_qval = self.model.predict(update_output)\n",
    "\n",
    "                # 3. Update your 'update_output' and 'update_input' batch\n",
    "            for i in range(self.batch_size):\n",
    "                target[i][actions[i]] = rewards[i] + self.discount_factor * np.max(target_qval[i])\n",
    "            \n",
    "            # 4. Fit your model and track the loss values\n",
    "            self.model.fit(update_input, target, batch_size=self.batch_size, epochs=1, verbose=0)\n",
    "    \n",
    "    def store_q_values(self):\n",
    "        \"\"\" We are keeping track of q value for state [0,0,0] and action (0,2)\"\"\"\n",
    "        q_value = self.model.predict(self.track_state)\n",
    "        self.states_tracked.append(q_value[0][2])\n",
    "            \n",
    "    def save(self, name):\n",
    "        self.model.save(name)\n",
    "    "
   ]
  },
  {
   "cell_type": "code",
   "execution_count": 9,
   "metadata": {},
   "outputs": [],
   "source": [
    "Episodes = 100"
   ]
  },
  {
   "cell_type": "markdown",
   "metadata": {},
   "source": [
    "### DQN block"
   ]
  },
  {
   "cell_type": "code",
   "execution_count": 10,
   "metadata": {},
   "outputs": [
    {
     "name": "stdout",
     "output_type": "stream",
     "text": [
      "state terminated\n",
      "episode 0, reward -206.0, epsilon 1.0\n",
      "WARNING:tensorflow:From /usr/local/lib/python3.6/dist-packages/tensorflow/python/training/tracking/tracking.py:111: Model.state_updates (from tensorflow.python.keras.engine.training) is deprecated and will be removed in a future version.\n",
      "Instructions for updating:\n",
      "This property should not be used in TensorFlow 2.0, as updates are applied automatically.\n",
      "WARNING:tensorflow:From /usr/local/lib/python3.6/dist-packages/tensorflow/python/training/tracking/tracking.py:111: Layer.updates (from tensorflow.python.keras.engine.base_layer) is deprecated and will be removed in a future version.\n",
      "Instructions for updating:\n",
      "This property should not be used in TensorFlow 2.0, as updates are applied automatically.\n",
      "INFO:tensorflow:Assets written to: cab_driver.pkl/assets\n",
      "state terminated\n",
      "episode 1, reward -549.0, epsilon 0.913939792152701\n",
      "state terminated\n",
      "episode 2, reward -303.0, epsilon 0.7634031563874195\n",
      "state terminated\n",
      "episode 3, reward -213.0, epsilon 0.5827899775487523\n",
      "state terminated\n",
      "episode 4, reward 50.0, epsilon 0.40662900277462505\n",
      "state terminated\n",
      "episode 5, reward 395.0, epsilon 0.25931433661982695\n",
      "state terminated\n",
      "episode 6, reward 382.0, epsilon 0.15115670165548722\n",
      "state terminated\n",
      "episode 7, reward 938.0, epsilon 0.0805515607888575\n",
      "state terminated\n",
      "episode 8, reward 2038.0, epsilon 0.039259978709477186\n",
      "state terminated\n",
      "episode 9, reward 2524.0, epsilon 0.017520632402029567\n",
      "state terminated\n",
      "episode 10, reward 2590.0, epsilon 0.007182700588159219\n",
      "state terminated\n",
      "episode 11, reward 2645.0, epsilon 0.002731766448048099\n",
      "state terminated\n",
      "episode 12, reward 2450.0, epsilon 0.0009937361102996087\n",
      "state terminated\n",
      "episode 13, reward 2801.0, epsilon 0.0003773861428522017\n",
      "state terminated\n",
      "episode 14, reward 2583.0, epsilon 0.00017868169631526752\n",
      "state terminated\n",
      "episode 15, reward 2673.0, epsilon 0.00012039746346083084\n",
      "state terminated\n",
      "episode 16, reward 2702.0, epsilon 0.00010483272530057512\n",
      "state terminated\n",
      "episode 17, reward 2727.0, epsilon 0.00010104645739791499\n",
      "state terminated\n",
      "episode 18, reward 2693.0, epsilon 0.00010020709255769381\n",
      "state terminated\n",
      "episode 19, reward 2475.0, epsilon 0.00010003745595959241\n",
      "state terminated\n",
      "episode 20, reward 2295.0, epsilon 0.0001000061914284779\n",
      "state terminated\n",
      "episode 21, reward 2612.0, epsilon 0.00010000093535029944\n",
      "state terminated\n",
      "episode 22, reward 2466.0, epsilon 0.00010000012914310247\n",
      "state terminated\n",
      "episode 23, reward 1619.0, epsilon 0.00010000001629602335\n",
      "state terminated\n",
      "episode 24, reward 2276.0, epsilon 0.00010000000187934087\n",
      "state terminated\n",
      "episode 25, reward 2038.0, epsilon 0.00010000000019808107\n",
      "state terminated\n",
      "episode 26, reward 2227.0, epsilon 0.00010000000001908069\n",
      "state terminated\n",
      "episode 27, reward 2253.0, epsilon 0.00010000000000167981\n",
      "state terminated\n",
      "episode 28, reward 2487.0, epsilon 0.00010000000000013516\n",
      "state terminated\n",
      "episode 29, reward 2419.0, epsilon 0.00010000000000000994\n",
      "state terminated\n",
      "episode 30, reward 2593.0, epsilon 0.00010000000000000067\n",
      "state terminated\n",
      "episode 31, reward 2457.0, epsilon 0.00010000000000000005\n",
      "state terminated\n",
      "episode 32, reward 2590.0, epsilon 0.0001\n",
      "state terminated\n",
      "episode 33, reward 2636.0, epsilon 0.0001\n",
      "state terminated\n",
      "episode 34, reward 2586.0, epsilon 0.0001\n",
      "state terminated\n",
      "episode 35, reward 2537.0, epsilon 0.0001\n",
      "state terminated\n",
      "episode 36, reward 2603.0, epsilon 0.0001\n",
      "state terminated\n",
      "episode 37, reward 2644.0, epsilon 0.0001\n",
      "state terminated\n",
      "episode 38, reward 2668.0, epsilon 0.0001\n",
      "state terminated\n",
      "episode 39, reward 2697.0, epsilon 0.0001\n",
      "state terminated\n",
      "episode 40, reward 2672.0, epsilon 0.0001\n",
      "state terminated\n",
      "episode 41, reward 2650.0, epsilon 0.0001\n",
      "state terminated\n",
      "episode 42, reward 2638.0, epsilon 0.0001\n",
      "state terminated\n",
      "episode 43, reward 2430.0, epsilon 0.0001\n",
      "state terminated\n",
      "episode 44, reward 2645.0, epsilon 0.0001\n",
      "state terminated\n",
      "episode 45, reward 2675.0, epsilon 0.0001\n",
      "state terminated\n",
      "episode 46, reward 2614.0, epsilon 0.0001\n",
      "state terminated\n",
      "episode 47, reward 2571.0, epsilon 0.0001\n",
      "state terminated\n",
      "episode 48, reward 2456.0, epsilon 0.0001\n",
      "state terminated\n",
      "episode 49, reward 2452.0, epsilon 0.0001\n",
      "state terminated\n",
      "episode 50, reward 2619.0, epsilon 0.0001\n",
      "state terminated\n",
      "episode 51, reward 2703.0, epsilon 0.0001\n",
      "state terminated\n",
      "episode 52, reward 2685.0, epsilon 0.0001\n",
      "state terminated\n",
      "episode 53, reward 2686.0, epsilon 0.0001\n",
      "state terminated\n",
      "episode 54, reward 2659.0, epsilon 0.0001\n",
      "state terminated\n",
      "episode 55, reward 2641.0, epsilon 0.0001\n",
      "state terminated\n",
      "episode 56, reward 2685.0, epsilon 0.0001\n",
      "state terminated\n",
      "episode 57, reward 2668.0, epsilon 0.0001\n",
      "state terminated\n",
      "episode 58, reward 2625.0, epsilon 0.0001\n",
      "state terminated\n",
      "episode 59, reward 2667.0, epsilon 0.0001\n",
      "state terminated\n",
      "episode 60, reward 2620.0, epsilon 0.0001\n",
      "state terminated\n",
      "episode 61, reward 2672.0, epsilon 0.0001\n",
      "state terminated\n",
      "episode 62, reward 2626.0, epsilon 0.0001\n",
      "state terminated\n",
      "episode 63, reward 2663.0, epsilon 0.0001\n",
      "state terminated\n",
      "episode 64, reward 2666.0, epsilon 0.0001\n",
      "state terminated\n",
      "episode 65, reward 2674.0, epsilon 0.0001\n",
      "state terminated\n",
      "episode 66, reward 2645.0, epsilon 0.0001\n",
      "state terminated\n",
      "episode 67, reward 2627.0, epsilon 0.0001\n",
      "state terminated\n",
      "episode 68, reward 2626.0, epsilon 0.0001\n",
      "state terminated\n",
      "episode 69, reward 2606.0, epsilon 0.0001\n",
      "state terminated\n",
      "episode 70, reward 2623.0, epsilon 0.0001\n",
      "state terminated\n",
      "episode 71, reward 2653.0, epsilon 0.0001\n",
      "state terminated\n",
      "episode 72, reward 2632.0, epsilon 0.0001\n",
      "state terminated\n",
      "episode 73, reward 2658.0, epsilon 0.0001\n",
      "state terminated\n",
      "episode 74, reward 2604.0, epsilon 0.0001\n",
      "state terminated\n",
      "episode 75, reward 2628.0, epsilon 0.0001\n",
      "state terminated\n",
      "episode 76, reward 2576.0, epsilon 0.0001\n",
      "state terminated\n",
      "episode 77, reward 2626.0, epsilon 0.0001\n",
      "state terminated\n",
      "episode 78, reward 2555.0, epsilon 0.0001\n",
      "state terminated\n",
      "episode 79, reward 2591.0, epsilon 0.0001\n",
      "state terminated\n",
      "episode 80, reward 2599.0, epsilon 0.0001\n",
      "state terminated\n",
      "episode 81, reward 2644.0, epsilon 0.0001\n",
      "state terminated\n",
      "episode 82, reward 2464.0, epsilon 0.0001\n",
      "state terminated\n",
      "episode 83, reward 2569.0, epsilon 0.0001\n",
      "state terminated\n",
      "episode 84, reward 2724.0, epsilon 0.0001\n",
      "state terminated\n",
      "episode 85, reward 2703.0, epsilon 0.0001\n",
      "state terminated\n",
      "episode 86, reward 2732.0, epsilon 0.0001\n",
      "state terminated\n",
      "episode 87, reward 2729.0, epsilon 0.0001\n",
      "state terminated\n",
      "episode 88, reward 2658.0, epsilon 0.0001\n",
      "state terminated\n",
      "episode 89, reward 2659.0, epsilon 0.0001\n",
      "state terminated\n",
      "episode 90, reward 2735.0, epsilon 0.0001\n",
      "state terminated\n",
      "episode 91, reward 2730.0, epsilon 0.0001\n",
      "state terminated\n",
      "episode 92, reward 2721.0, epsilon 0.0001\n",
      "state terminated\n",
      "episode 93, reward 2718.0, epsilon 0.0001\n",
      "state terminated\n",
      "episode 94, reward 2747.0, epsilon 0.0001\n",
      "state terminated\n",
      "episode 95, reward 2724.0, epsilon 0.0001\n",
      "state terminated\n",
      "episode 96, reward 2610.0, epsilon 0.0001\n",
      "state terminated\n",
      "episode 97, reward 2730.0, epsilon 0.0001\n",
      "state terminated\n",
      "episode 98, reward 2734.0, epsilon 0.0001\n",
      "state terminated\n",
      "episode 99, reward 2717.0, epsilon 0.0001\n",
      "Total time taken:  20024.380742549896\n"
     ]
    }
   ],
   "source": [
    "start_time = time.time()\n",
    "rewards_per_episode, episodes, avg_rewards_per_episode = [], [], []\n",
    "\n",
    "# creating environment\n",
    "env = CabDriver()\n",
    "\n",
    "# creating agent and using architecture 1\n",
    "agent = DQNAgent(\n",
    "    action_size=len(env.action_space),\n",
    "    state_size=len(env.state_encod_arch1(env.state_init))\n",
    ")\n",
    "\n",
    "#### simulation starts ####\n",
    "for episode in range(Episodes):\n",
    "\n",
    "    # Call the environment\n",
    "    # env = CabDriver()\n",
    "\n",
    "    # Call all the initialised variables of the environment\n",
    "    action_space, state_space, state = env.reset()\n",
    "\n",
    "    terminal_state = False\n",
    "    score = 0\n",
    "    total_time = 0\n",
    "\n",
    "    while not terminal_state:\n",
    "        \n",
    "        # Write your code here\n",
    "        \n",
    "        # 1. Pick epsilon-greedy action from possible actions for the current state\n",
    "        action_index, action = agent.get_action(env.state_encod_arch1(state), env.action_space)\n",
    "        \n",
    "        # 2. Evaluate your reward and next state\n",
    "        next_state, wait_time, transit_time, ride_time = env.next_state_func(state, action, Time_matrix)\n",
    "        reward = env.reward_func(state, action, Time_matrix)\n",
    "\n",
    "        # 3. Append the experience to the memory\n",
    "        agent.append_sample(env.state_encod_arch1(state), action_index, reward, env.state_encod_arch1(next_state))\n",
    "\n",
    "        # 4. Train the model by calling function agent.train_model\n",
    "        agent.train_model()\n",
    "        \n",
    "        # 5. Keep a track of rewards, Q-values, loss\n",
    "        score += reward\n",
    "        state = next_state\n",
    "        total_time += wait_time + transit_time + ride_time\n",
    "        \n",
    "        if total_time >= 24 * 30:\n",
    "            print(\"state terminated\")\n",
    "            terminal_state = True\n",
    "\n",
    "    # store total reward obtained in this episode\n",
    "    rewards_per_episode.append(score)\n",
    "    episodes.append(episode)\n",
    "\n",
    "    # epsilon decay\n",
    "    if agent.epsilon > agent.epsilon_min:\n",
    "        agent.epsilon = agent.epsilon_min + (agent.epsilon - agent.epsilon_min) * np.exp(-agent.epsilon_decay*episode)\n",
    "\n",
    "    # every episode:\n",
    "    print(f\"episode {episode}, reward {score}, epsilon {agent.epsilon}\")\n",
    "\n",
    "    # every few episodes:\n",
    "    if episode % 10 == 0:\n",
    "        # store q-values of some prespecified state-action pairs\n",
    "        agent.store_q_values()\n",
    "    \n",
    "    if episode % 1000 == 0:\n",
    "        agent.save(name=\"cab_driver.pkl\")\n",
    "\n",
    "elapsed_time = time.time() - start_time\n",
    "print('Total time taken: ', elapsed_time)"
   ]
  },
  {
   "cell_type": "code",
   "execution_count": 18,
   "metadata": {},
   "outputs": [],
   "source": [
    "save_obj(rewards_per_episode, \"rewards_per_episode\")"
   ]
  },
  {
   "cell_type": "markdown",
   "metadata": {},
   "source": [
    "### Tracking Convergence"
   ]
  },
  {
   "cell_type": "code",
   "execution_count": 11,
   "metadata": {},
   "outputs": [
    {
     "data": {
      "image/png": "[encoded data removed]",
      "text/plain": [
       "<Figure size 432x288 with 1 Axes>"
      ]
     },
     "metadata": {
      "needs_background": "light"
     },
     "output_type": "display_data"
    }
   ],
   "source": [
    "# Check Convergence by tracking total rewards per episode vs episode number\n",
    "plt.plot(list(range(len(rewards_per_episode))), rewards_per_episode)\n",
    "plt.ylabel(\"total rewards\")\n",
    "plt.show()"
   ]
  },
  {
   "cell_type": "code",
   "execution_count": 12,
   "metadata": {},
   "outputs": [
    {
     "name": "stdout",
     "output_type": "stream",
     "text": [
      "[2387.57]\n"
     ]
    }
   ],
   "source": [
    "# Average reward per 100 episode\n",
    "avg_rewards = []\n",
    "episodes = len(rewards_per_episode)\n",
    "index = 0\n",
    "track_total_reward = 0\n",
    "for episode_number in range(episodes):\n",
    "    if index != 100:\n",
    "        track_total_reward += rewards_per_episode[episode_number]\n",
    "        index += 1\n",
    "    else:\n",
    "        avg_rewards.append(track_total_reward/index)\n",
    "        track_total_reward = rewards_per_episode[episode_number]\n",
    "        index = 1\n",
    "\n",
    "avg_rewards.append(track_total_reward/index)\n",
    "        \n",
    "    \n",
    "print(avg_rewards)"
   ]
  },
  {
   "cell_type": "code",
   "execution_count": 13,
   "metadata": {},
   "outputs": [
    {
     "data": {
      "image/png": "[encoded data removed]",
      "text/plain": [
       "<Figure size 432x288 with 1 Axes>"
      ]
     },
     "metadata": {
      "needs_background": "light"
     },
     "output_type": "display_data"
    }
   ],
   "source": [
    "## Check Convergence by tracking average rewards per episode vs episode number\n",
    "plt.plot(list(range(len(avg_rewards))), avg_rewards)\n",
    "plt.ylabel(\"avg rewards\")\n",
    "plt.show()"
   ]
  },
  {
   "cell_type": "code",
   "execution_count": 14,
   "metadata": {},
   "outputs": [
    {
     "data": {
      "image/png": "[encoded data removed]",
      "text/plain": [
       "<Figure size 1152x504 with 1 Axes>"
      ]
     },
     "metadata": {
      "needs_background": "light"
     },
     "output_type": "display_data"
    }
   ],
   "source": [
    "plt.figure(0, figsize=(16,7))\n",
    "plt.title('Q_value for state [0,0,0]  action (0,2)')\n",
    "xaxis = np.asarray(range(0, len(agent.states_tracked)))\n",
    "plt.semilogy(xaxis,np.asarray(agent.states_tracked))\n",
    "plt.show()"
   ]
  },
  {
   "cell_type": "markdown",
   "metadata": {},
   "source": [
    "#### Epsilon-decay sample function"
   ]
  },
  {
   "cell_type": "markdown",
   "metadata": {},
   "source": [
    "<div class=\"alert alert-block alert-info\">\n",
    "Try building a similar epsilon-decay function for your model.\n",
    "</div>"
   ]
  },
  {
   "cell_type": "code",
   "execution_count": 15,
   "metadata": {},
   "outputs": [],
   "source": [
    "time = np.arange(0,10000)\n",
    "epsilon = []\n",
    "for i in range(0,10000):\n",
    "    epsilon.append(0 + (1 - 0) * np.exp(-0.0009*i))"
   ]
  },
  {
   "cell_type": "code",
   "execution_count": 16,
   "metadata": {},
   "outputs": [
    {
     "data": {
      "image/png": "[encoded data removed]",
      "text/plain": [
       "<Figure size 432x288 with 1 Axes>"
      ]
     },
     "metadata": {
      "needs_background": "light"
     },
     "output_type": "display_data"
    }
   ],
   "source": [
    "plt.plot(time, epsilon)\n",
    "plt.show()"
   ]
  },
  {
   "cell_type": "code",
   "execution_count": null,
   "metadata": {},
   "outputs": [],
   "source": []
  }
 ],
 "metadata": {
  "kernelspec": {
   "display_name": "Python 3",
   "language": "python",
   "name": "python3"
  },
  "language_info": {
   "codemirror_mode": {
    "name": "ipython",
    "version": 3
   },
   "file_extension": ".py",
   "mimetype": "text/x-python",
   "name": "python",
   "nbconvert_exporter": "python",
   "pygments_lexer": "ipython3",
   "version": "3.6.9"
  }
 },
 "nbformat": 4,
 "nbformat_minor": 4
}
